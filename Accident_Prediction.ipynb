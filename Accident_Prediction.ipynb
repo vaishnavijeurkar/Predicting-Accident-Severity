{
  "nbformat": 4,
  "nbformat_minor": 0,
  "metadata": {
    "colab": {
      "provenance": [],
      "collapsed_sections": [
        "Xm5Ry14XHmnE",
        "pKuXh6NtHw3N",
        "sqmo56tNDE5y",
        "mJRezdwMH2VZ",
        "5TXdNlXpHsQV",
        "Iomh9tCFJbKS",
        "auD6RqPLJeri",
        "OlHyOWs_J5I_",
        "-vwBbh3fMFOk",
        "VBxZJefcPe_h",
        "PCbMmNRDUZNh",
        "IHg4aC8aZJYH",
        "YAMpe2vXWbMx",
        "xZmFlmVRVldB",
        "ULhRK8d9WkBu",
        "ff-4lHtsYGyp",
        "dKUXRKPpVuH1",
        "UrFhLNjbfUH1",
        "sviwpM5WfUID",
        "Zus_n7EtG9uC",
        "4rQ4tSF4HB9I",
        "k_Y_pG39J_Ue",
        "Tn_v6QBZG2zP",
        "H7um0neCHZQ6",
        "1VuDGHGdNbSN",
        "sPfP2Kd22i86",
        "jZMXMqhMGYhd",
        "7ev7T9wE0pcq",
        "mIRc_QwjHRUT"
      ]
    },
    "kernelspec": {
      "name": "python3",
      "display_name": "Python 3"
    },
    "language_info": {
      "name": "python"
    },
    "accelerator": "TPU",
    "widgets": {
      "application/vnd.jupyter.widget-state+json": {
        "b4f1de4b9e4541cd8b99c7c9c2121d9a": {
          "model_module": "@jupyter-widgets/controls",
          "model_name": "HBoxModel",
          "model_module_version": "1.5.0",
          "state": {
            "_dom_classes": [],
            "_model_module": "@jupyter-widgets/controls",
            "_model_module_version": "1.5.0",
            "_model_name": "HBoxModel",
            "_view_count": null,
            "_view_module": "@jupyter-widgets/controls",
            "_view_module_version": "1.5.0",
            "_view_name": "HBoxView",
            "box_style": "",
            "children": [
              "IPY_MODEL_e3e2ad4acb6f471daf8bb1d20002bc09",
              "IPY_MODEL_0172ee30bebc4fa5a06f4137a9cdbd38",
              "IPY_MODEL_fe1f8ef0766e41f280f7af176c5e16af"
            ],
            "layout": "IPY_MODEL_e352f4935e074112bb0843add9eca640"
          }
        },
        "e3e2ad4acb6f471daf8bb1d20002bc09": {
          "model_module": "@jupyter-widgets/controls",
          "model_name": "HTMLModel",
          "model_module_version": "1.5.0",
          "state": {
            "_dom_classes": [],
            "_model_module": "@jupyter-widgets/controls",
            "_model_module_version": "1.5.0",
            "_model_name": "HTMLModel",
            "_view_count": null,
            "_view_module": "@jupyter-widgets/controls",
            "_view_module_version": "1.5.0",
            "_view_name": "HTMLView",
            "description": "",
            "description_tooltip": null,
            "layout": "IPY_MODEL_d09e72375684487dadeafdf0fcf330ae",
            "placeholder": "​",
            "style": "IPY_MODEL_0c95085a0a7644b4bd3123e3c0a10ac8",
            "value": "Done! Use &#x27;show&#x27; commands to display/save.   "
          }
        },
        "0172ee30bebc4fa5a06f4137a9cdbd38": {
          "model_module": "@jupyter-widgets/controls",
          "model_name": "FloatProgressModel",
          "model_module_version": "1.5.0",
          "state": {
            "_dom_classes": [],
            "_model_module": "@jupyter-widgets/controls",
            "_model_module_version": "1.5.0",
            "_model_name": "FloatProgressModel",
            "_view_count": null,
            "_view_module": "@jupyter-widgets/controls",
            "_view_module_version": "1.5.0",
            "_view_name": "ProgressView",
            "bar_style": "success",
            "description": "",
            "description_tooltip": null,
            "layout": "IPY_MODEL_b20c4b9a05cc4b838e81aa8ae5f46ba4",
            "max": 1,
            "min": 0,
            "orientation": "horizontal",
            "style": "IPY_MODEL_3e9c8aa014a340758f4ec2066e0bc11a",
            "value": 1
          }
        },
        "fe1f8ef0766e41f280f7af176c5e16af": {
          "model_module": "@jupyter-widgets/controls",
          "model_name": "HTMLModel",
          "model_module_version": "1.5.0",
          "state": {
            "_dom_classes": [],
            "_model_module": "@jupyter-widgets/controls",
            "_model_module_version": "1.5.0",
            "_model_name": "HTMLModel",
            "_view_count": null,
            "_view_module": "@jupyter-widgets/controls",
            "_view_module_version": "1.5.0",
            "_view_name": "HTMLView",
            "description": "",
            "description_tooltip": null,
            "layout": "IPY_MODEL_eedb5ef4cb2b4437a62ab13456b80c82",
            "placeholder": "​",
            "style": "IPY_MODEL_936afff0a71a4459bec1f8e4c3917492",
            "value": " [100%]   00:02 -&gt; (00:00 left)"
          }
        },
        "e352f4935e074112bb0843add9eca640": {
          "model_module": "@jupyter-widgets/base",
          "model_name": "LayoutModel",
          "model_module_version": "1.2.0",
          "state": {
            "_model_module": "@jupyter-widgets/base",
            "_model_module_version": "1.2.0",
            "_model_name": "LayoutModel",
            "_view_count": null,
            "_view_module": "@jupyter-widgets/base",
            "_view_module_version": "1.2.0",
            "_view_name": "LayoutView",
            "align_content": null,
            "align_items": null,
            "align_self": null,
            "border": null,
            "bottom": null,
            "display": "inline-flex",
            "flex": null,
            "flex_flow": "row wrap",
            "grid_area": null,
            "grid_auto_columns": null,
            "grid_auto_flow": null,
            "grid_auto_rows": null,
            "grid_column": null,
            "grid_gap": null,
            "grid_row": null,
            "grid_template_areas": null,
            "grid_template_columns": null,
            "grid_template_rows": null,
            "height": null,
            "justify_content": null,
            "justify_items": null,
            "left": null,
            "margin": null,
            "max_height": null,
            "max_width": null,
            "min_height": null,
            "min_width": null,
            "object_fit": null,
            "object_position": null,
            "order": null,
            "overflow": null,
            "overflow_x": null,
            "overflow_y": null,
            "padding": null,
            "right": null,
            "top": null,
            "visibility": null,
            "width": "100%"
          }
        },
        "d09e72375684487dadeafdf0fcf330ae": {
          "model_module": "@jupyter-widgets/base",
          "model_name": "LayoutModel",
          "model_module_version": "1.2.0",
          "state": {
            "_model_module": "@jupyter-widgets/base",
            "_model_module_version": "1.2.0",
            "_model_name": "LayoutModel",
            "_view_count": null,
            "_view_module": "@jupyter-widgets/base",
            "_view_module_version": "1.2.0",
            "_view_name": "LayoutView",
            "align_content": null,
            "align_items": null,
            "align_self": null,
            "border": null,
            "bottom": null,
            "display": null,
            "flex": null,
            "flex_flow": null,
            "grid_area": null,
            "grid_auto_columns": null,
            "grid_auto_flow": null,
            "grid_auto_rows": null,
            "grid_column": null,
            "grid_gap": null,
            "grid_row": null,
            "grid_template_areas": null,
            "grid_template_columns": null,
            "grid_template_rows": null,
            "height": null,
            "justify_content": null,
            "justify_items": null,
            "left": null,
            "margin": null,
            "max_height": null,
            "max_width": null,
            "min_height": null,
            "min_width": null,
            "object_fit": null,
            "object_position": null,
            "order": null,
            "overflow": null,
            "overflow_x": null,
            "overflow_y": null,
            "padding": null,
            "right": null,
            "top": null,
            "visibility": null,
            "width": null
          }
        },
        "0c95085a0a7644b4bd3123e3c0a10ac8": {
          "model_module": "@jupyter-widgets/controls",
          "model_name": "DescriptionStyleModel",
          "model_module_version": "1.5.0",
          "state": {
            "_model_module": "@jupyter-widgets/controls",
            "_model_module_version": "1.5.0",
            "_model_name": "DescriptionStyleModel",
            "_view_count": null,
            "_view_module": "@jupyter-widgets/base",
            "_view_module_version": "1.2.0",
            "_view_name": "StyleView",
            "description_width": ""
          }
        },
        "b20c4b9a05cc4b838e81aa8ae5f46ba4": {
          "model_module": "@jupyter-widgets/base",
          "model_name": "LayoutModel",
          "model_module_version": "1.2.0",
          "state": {
            "_model_module": "@jupyter-widgets/base",
            "_model_module_version": "1.2.0",
            "_model_name": "LayoutModel",
            "_view_count": null,
            "_view_module": "@jupyter-widgets/base",
            "_view_module_version": "1.2.0",
            "_view_name": "LayoutView",
            "align_content": null,
            "align_items": null,
            "align_self": null,
            "border": null,
            "bottom": null,
            "display": null,
            "flex": "2",
            "flex_flow": null,
            "grid_area": null,
            "grid_auto_columns": null,
            "grid_auto_flow": null,
            "grid_auto_rows": null,
            "grid_column": null,
            "grid_gap": null,
            "grid_row": null,
            "grid_template_areas": null,
            "grid_template_columns": null,
            "grid_template_rows": null,
            "height": null,
            "justify_content": null,
            "justify_items": null,
            "left": null,
            "margin": null,
            "max_height": null,
            "max_width": null,
            "min_height": null,
            "min_width": null,
            "object_fit": null,
            "object_position": null,
            "order": null,
            "overflow": null,
            "overflow_x": null,
            "overflow_y": null,
            "padding": null,
            "right": null,
            "top": null,
            "visibility": null,
            "width": null
          }
        },
        "3e9c8aa014a340758f4ec2066e0bc11a": {
          "model_module": "@jupyter-widgets/controls",
          "model_name": "ProgressStyleModel",
          "model_module_version": "1.5.0",
          "state": {
            "_model_module": "@jupyter-widgets/controls",
            "_model_module_version": "1.5.0",
            "_model_name": "ProgressStyleModel",
            "_view_count": null,
            "_view_module": "@jupyter-widgets/base",
            "_view_module_version": "1.2.0",
            "_view_name": "StyleView",
            "bar_color": null,
            "description_width": ""
          }
        },
        "eedb5ef4cb2b4437a62ab13456b80c82": {
          "model_module": "@jupyter-widgets/base",
          "model_name": "LayoutModel",
          "model_module_version": "1.2.0",
          "state": {
            "_model_module": "@jupyter-widgets/base",
            "_model_module_version": "1.2.0",
            "_model_name": "LayoutModel",
            "_view_count": null,
            "_view_module": "@jupyter-widgets/base",
            "_view_module_version": "1.2.0",
            "_view_name": "LayoutView",
            "align_content": null,
            "align_items": null,
            "align_self": null,
            "border": null,
            "bottom": null,
            "display": null,
            "flex": null,
            "flex_flow": null,
            "grid_area": null,
            "grid_auto_columns": null,
            "grid_auto_flow": null,
            "grid_auto_rows": null,
            "grid_column": null,
            "grid_gap": null,
            "grid_row": null,
            "grid_template_areas": null,
            "grid_template_columns": null,
            "grid_template_rows": null,
            "height": null,
            "justify_content": null,
            "justify_items": null,
            "left": null,
            "margin": null,
            "max_height": null,
            "max_width": null,
            "min_height": null,
            "min_width": null,
            "object_fit": null,
            "object_position": null,
            "order": null,
            "overflow": null,
            "overflow_x": null,
            "overflow_y": null,
            "padding": null,
            "right": null,
            "top": null,
            "visibility": null,
            "width": null
          }
        },
        "936afff0a71a4459bec1f8e4c3917492": {
          "model_module": "@jupyter-widgets/controls",
          "model_name": "DescriptionStyleModel",
          "model_module_version": "1.5.0",
          "state": {
            "_model_module": "@jupyter-widgets/controls",
            "_model_module_version": "1.5.0",
            "_model_name": "DescriptionStyleModel",
            "_view_count": null,
            "_view_module": "@jupyter-widgets/base",
            "_view_module_version": "1.2.0",
            "_view_name": "StyleView",
            "description_width": ""
          }
        }
      }
    }
  },
  "cells": [
    {
      "cell_type": "markdown",
      "source": [
        "# Predicting Road Traffic Accident Severity\n"
      ],
      "metadata": {
        "id": "xDPwGIZYWNG5"
      }
    },
    {
      "cell_type": "markdown",
      "source": [
        "###Introduction\n",
        "FARS dataset is a collection of statistics of US road traffic accidents. It has total 30 features and over 100k examples. The objective of this project is to identify the severity of accident. In this project we build the machine learning pipelines to classify the injury severity into one of the 7 class labels using appropriate data cleaning, preprocessing, modelling and hyperparameter tuning steps.\n",
        "\n",
        "###Business Understanding\n",
        "In the context of the FARS dataset, the business understanding revolves around improving road safety by leveraging machine learning to predict and classify the severity of traffic accidents. The goal is to assist relevant stakeholders, such as transportation authorities and emergency services, in efficiently allocating resources and implementing targeted preventive measures. Success criteria for this project would involve developing a robust machine learning pipeline that accurately classifies accident severity into one of the seven predefined labels. Key performance indicators include high classification accuracy, precision, and recall rates, ensuring the model's ability to distinguish between different levels of injury severity. The success of the project would ultimately be measured by its real-world impact, contributing to the enhancement of road safety and reducing the overall human and economic costs associated with traffic accidents.\n",
        "\n",
        "### Research Question\n",
        "\"Can we identify the injury severity accurately using the given dataset?\""
      ],
      "metadata": {
        "id": "MXna_Jui_8Qf"
      }
    },
    {
      "cell_type": "markdown",
      "source": [
        "# Importing Libraries"
      ],
      "metadata": {
        "id": "Xm5Ry14XHmnE"
      }
    },
    {
      "cell_type": "code",
      "source": [
        "!pip install sweetviz"
      ],
      "metadata": {
        "id": "2q3Mlv1IKPIU",
        "colab": {
          "base_uri": "https://localhost:8080/"
        },
        "outputId": "ad093c85-8d72-4956-d8f4-36bef47a62d1"
      },
      "execution_count": null,
      "outputs": [
        {
          "output_type": "stream",
          "name": "stdout",
          "text": [
            "Requirement already satisfied: sweetviz in /usr/local/lib/python3.10/dist-packages (2.3.1)\n",
            "Requirement already satisfied: pandas!=1.0.0,!=1.0.1,!=1.0.2,>=0.25.3 in /usr/local/lib/python3.10/dist-packages (from sweetviz) (1.5.3)\n",
            "Requirement already satisfied: numpy>=1.16.0 in /usr/local/lib/python3.10/dist-packages (from sweetviz) (1.23.5)\n",
            "Requirement already satisfied: matplotlib>=3.1.3 in /usr/local/lib/python3.10/dist-packages (from sweetviz) (3.7.1)\n",
            "Requirement already satisfied: tqdm>=4.43.0 in /usr/local/lib/python3.10/dist-packages (from sweetviz) (4.66.1)\n",
            "Requirement already satisfied: scipy>=1.3.2 in /usr/local/lib/python3.10/dist-packages (from sweetviz) (1.11.4)\n",
            "Requirement already satisfied: jinja2>=2.11.1 in /usr/local/lib/python3.10/dist-packages (from sweetviz) (3.1.2)\n",
            "Requirement already satisfied: importlib-resources>=1.2.0 in /usr/local/lib/python3.10/dist-packages (from sweetviz) (6.1.1)\n",
            "Requirement already satisfied: MarkupSafe>=2.0 in /usr/local/lib/python3.10/dist-packages (from jinja2>=2.11.1->sweetviz) (2.1.3)\n",
            "Requirement already satisfied: contourpy>=1.0.1 in /usr/local/lib/python3.10/dist-packages (from matplotlib>=3.1.3->sweetviz) (1.2.0)\n",
            "Requirement already satisfied: cycler>=0.10 in /usr/local/lib/python3.10/dist-packages (from matplotlib>=3.1.3->sweetviz) (0.12.1)\n",
            "Requirement already satisfied: fonttools>=4.22.0 in /usr/local/lib/python3.10/dist-packages (from matplotlib>=3.1.3->sweetviz) (4.47.0)\n",
            "Requirement already satisfied: kiwisolver>=1.0.1 in /usr/local/lib/python3.10/dist-packages (from matplotlib>=3.1.3->sweetviz) (1.4.5)\n",
            "Requirement already satisfied: packaging>=20.0 in /usr/local/lib/python3.10/dist-packages (from matplotlib>=3.1.3->sweetviz) (23.2)\n",
            "Requirement already satisfied: pillow>=6.2.0 in /usr/local/lib/python3.10/dist-packages (from matplotlib>=3.1.3->sweetviz) (9.4.0)\n",
            "Requirement already satisfied: pyparsing>=2.3.1 in /usr/local/lib/python3.10/dist-packages (from matplotlib>=3.1.3->sweetviz) (3.1.1)\n",
            "Requirement already satisfied: python-dateutil>=2.7 in /usr/local/lib/python3.10/dist-packages (from matplotlib>=3.1.3->sweetviz) (2.8.2)\n",
            "Requirement already satisfied: pytz>=2020.1 in /usr/local/lib/python3.10/dist-packages (from pandas!=1.0.0,!=1.0.1,!=1.0.2,>=0.25.3->sweetviz) (2023.3.post1)\n",
            "Requirement already satisfied: six>=1.5 in /usr/local/lib/python3.10/dist-packages (from python-dateutil>=2.7->matplotlib>=3.1.3->sweetviz) (1.16.0)\n"
          ]
        }
      ]
    },
    {
      "cell_type": "code",
      "source": [
        "import pandas as pd\n",
        "from sklearn.preprocessing import MinMaxScaler\n",
        "import numpy as np\n",
        "import sweetviz as sv\n",
        "from sklearn.pipeline import Pipeline\n",
        "from sklearn.svm import SVC\n",
        "from sklearn.metrics import accuracy_score\n",
        "from sklearn.datasets import make_classification\n",
        "from sklearn.preprocessing import LabelEncoder\n",
        "from sklearn.decomposition import PCA\n",
        "from sklearn.preprocessing import StandardScaler\n",
        "from sklearn.linear_model import LogisticRegression\n",
        "from sklearn.discriminant_analysis import LinearDiscriminantAnalysis\n",
        "from sklearn.tree import DecisionTreeClassifier\n",
        "from sklearn.model_selection import train_test_split, cross_val_score, GridSearchCV, KFold\n",
        "from sklearn.ensemble import RandomForestClassifier\n",
        "from sklearn.metrics import accuracy_score, precision_score, recall_score, f1_score\n",
        "from imblearn.over_sampling import SMOTE\n",
        "from collections import Counter\n"
      ],
      "metadata": {
        "id": "9zxBFM-wC7Wk"
      },
      "execution_count": null,
      "outputs": []
    },
    {
      "cell_type": "markdown",
      "source": [
        "# Import the dataset"
      ],
      "metadata": {
        "id": "pKuXh6NtHw3N"
      }
    },
    {
      "cell_type": "code",
      "source": [
        "##importing the dataset\n",
        "from google.colab import drive\n",
        "drive.mount('/content/drive')"
      ],
      "metadata": {
        "id": "9kwhWir0WQj-",
        "colab": {
          "base_uri": "https://localhost:8080/"
        },
        "outputId": "cc77588b-fb32-49e8-9db1-0f4e7c89c8ee"
      },
      "execution_count": null,
      "outputs": [
        {
          "output_type": "stream",
          "name": "stdout",
          "text": [
            "Drive already mounted at /content/drive; to attempt to forcibly remount, call drive.mount(\"/content/drive\", force_remount=True).\n"
          ]
        }
      ]
    },
    {
      "cell_type": "code",
      "source": [
        "\n",
        "# Reading the data into a Pandas DataFrame\n",
        "df = pd.read_csv('/content/drive/MyDrive/fars.csv', delimiter=',')\n"
      ],
      "metadata": {
        "id": "xIJPO4L5C16b"
      },
      "execution_count": null,
      "outputs": []
    },
    {
      "cell_type": "markdown",
      "source": [
        "# Data Formatting and Cleaning\n",
        "\n",
        "The initial step in cleaning the FARS dataset involved checking for null values, which, upon inspection, were found to be absent. Subsequently, duplicate entries were identified and removed to ensure data integrity. The dataset's target variable, injury severity, comprised eight classes, with one designated as an unknown class. Recognizing that the unknown class did not contribute to a meaningful understanding of injury severity outcomes, a strategic decision was made to exclude it from the analysis, resulting in a refined target variable with seven distinct classes. This preprocessing step aimed to enhance the model's predictive accuracy and interpretability by focusing on relevant and meaningful injury severity categories for subsequent machine learning model development and evaluation.\n"
      ],
      "metadata": {
        "id": "sqmo56tNDE5y"
      }
    },
    {
      "cell_type": "code",
      "source": [
        "percent_missing = round(df.isnull().sum()/len(df)*100,2)\n",
        "percent_missing"
      ],
      "metadata": {
        "colab": {
          "base_uri": "https://localhost:8080/"
        },
        "id": "KBYmvcwVKtch",
        "outputId": "4f10cc59-f002-4234-8681-93e3c922789e"
      },
      "execution_count": null,
      "outputs": [
        {
          "output_type": "execute_result",
          "data": {
            "text/plain": [
              "CASE_STATE                             0.0\n",
              "AGE                                    0.0\n",
              "SEX                                    0.0\n",
              "PERSON_TYPE                            0.0\n",
              "SEATING_POSITION                       0.0\n",
              "RESTRAINT_SYSTEM-USE                   0.0\n",
              "AIR_BAG_AVAILABILITY/DEPLOYMENT        0.0\n",
              "EJECTION                               0.0\n",
              "EJECTION_PATH                          0.0\n",
              "EXTRICATION                            0.0\n",
              "NON_MOTORIST_LOCATION                  0.0\n",
              "POLICE_REPORTED_ALCOHOL_INVOLVEMENT    0.0\n",
              "METHOD_ALCOHOL_DETERMINATION           0.0\n",
              "ALCOHOL_TEST_TYPE                      0.0\n",
              "ALCOHOL_TEST_RESULT                    0.0\n",
              "POLICE-REPORTED_DRUG_INVOLVEMENT       0.0\n",
              "METHOD_OF_DRUG_DETERMINATION           0.0\n",
              "DRUG_TEST_TYPE_(1_of_3)                0.0\n",
              "DRUG_TEST_RESULTS_(1_of_3)             0.0\n",
              "DRUG_TEST_TYPE_(2_of_3)                0.0\n",
              "DRUG_TEST_RESULTS_(2_of_3)             0.0\n",
              "DRUG_TEST_TYPE_(3_of_3)                0.0\n",
              "DRUG_TEST_RESULTS_(3_of_3)             0.0\n",
              "HISPANIC_ORIGIN                        0.0\n",
              "TAKEN_TO_HOSPITAL                      0.0\n",
              "RELATED_FACTOR_(1)-PERSON_LEVEL        0.0\n",
              "RELATED_FACTOR_(2)-PERSON_LEVEL        0.0\n",
              "RELATED_FACTOR_(3)-PERSON_LEVEL        0.0\n",
              "RACE                                   0.0\n",
              "INJURY_SEVERITY                        0.0\n",
              "dtype: float64"
            ]
          },
          "metadata": {},
          "execution_count": 18
        }
      ]
    },
    {
      "cell_type": "code",
      "source": [
        "df = df.drop_duplicates()"
      ],
      "metadata": {
        "id": "QncNeRrYDBhx"
      },
      "execution_count": null,
      "outputs": []
    },
    {
      "cell_type": "code",
      "source": [
        "df = df[df['INJURY_SEVERITY'] != 'Unknown']"
      ],
      "metadata": {
        "id": "RQiC2Q6X4w59"
      },
      "execution_count": null,
      "outputs": []
    },
    {
      "cell_type": "markdown",
      "source": [
        "# Data Exploration\n",
        "\n",
        "The dataset has 92605 entries and 29 features. The correlation matrix indicates the relationships between variables in the FARS dataset. 'AGE' shows a weak negative correlation with 'ALCOHOL_TEST_RESULT,' implying a slight decrease in positive alcohol test results with increasing age. The correlation between 'AGE' and 'DRUG_TEST_RESULTS_(1_of_3)' is very weakly positive. 'ALCOHOL_TEST_RESULT' has a weak positive correlation with 'DRUG_TEST_RESULTS_(2_of_3),' suggesting a slight association between alcohol and the second drug test result. The strongest correlation is between 'DRUG_TEST_RESULTS_(2_of_3)' and 'DRUG_TEST_RESULTS_(3_of_3),' indicating a highly positive relationship between the second and third drug test results. These findings provide insights into potential associations but do not establish causation, emphasizing the need for a comprehensive analysis of all relevant factors in predicting accident severity.\n",
        "\n",
        "The use of the Sweetviz library for exploratory data analysis (EDA) has unveiled important insights into the FARS dataset, particularly highlighting that 24 out of 30 features are categorical, with many instances of unknown or not reported values. The EDA report emphasizes the prevalence of such values in certain features, like 'Police Reported Drug Involvement,' where 90% of the data is not reported. This observation underscores the need for feature selection or dimensionality reduction techniques. Techniques such as removing features with a high percentage of missing values or employing methods like Principal Component Analysis (PCA) can be considered to streamline the dataset and retain only those features deemed most informative for predicting accident severity. This step is crucial to improve model interpretability, reduce computational complexity, and enhance the overall efficiency of the machine learning pipeline.\n",
        "\n",
        "The identified class imbalance in the injury severity variable, particularly with a significant disparity in entries between the major class (41442 entries for fatal injuries) and the minority class (only 9 entries for \"died prior to the accident\"), necessitates the implementation of class imbalance correction techniques. The goal is to ensure that the machine learning model is not biased toward predicting the majority class and can accurately capture patterns in the minority classes, ultimately improving the model's performance in predicting injury severity across all classes."
      ],
      "metadata": {
        "id": "mJRezdwMH2VZ"
      }
    },
    {
      "cell_type": "code",
      "source": [
        "df.shape"
      ],
      "metadata": {
        "id": "0zeaUkvqDAzd",
        "colab": {
          "base_uri": "https://localhost:8080/"
        },
        "outputId": "950b8de2-f09c-4c21-bb52-a5ee8f54aa83"
      },
      "execution_count": null,
      "outputs": [
        {
          "output_type": "execute_result",
          "data": {
            "text/plain": [
              "(92605, 30)"
            ]
          },
          "metadata": {},
          "execution_count": 21
        }
      ]
    },
    {
      "cell_type": "code",
      "source": [
        "correlation_matrix =df\n",
        "correlation_matrix = df.corr()\n",
        "for column in correlation_matrix.columns:\n",
        "    print(f\"Correlation of '{column}' with other columns:\")\n",
        "    print(correlation_matrix[column])\n",
        "    print(\"\\n\")"
      ],
      "metadata": {
        "colab": {
          "base_uri": "https://localhost:8080/"
        },
        "id": "wNpz_Z9gKIIu",
        "outputId": "4d504bb6-a1f9-40e4-a9e3-151b14e8c215"
      },
      "execution_count": null,
      "outputs": [
        {
          "output_type": "stream",
          "name": "stdout",
          "text": [
            "Correlation of 'AGE' with other columns:\n",
            "AGE                           1.000000\n",
            "ALCOHOL_TEST_RESULT          -0.080741\n",
            "DRUG_TEST_RESULTS_(1_of_3)    0.031057\n",
            "DRUG_TEST_RESULTS_(2_of_3)    0.024676\n",
            "DRUG_TEST_RESULTS_(3_of_3)    0.025657\n",
            "Name: AGE, dtype: float64\n",
            "\n",
            "\n",
            "Correlation of 'ALCOHOL_TEST_RESULT' with other columns:\n",
            "AGE                          -0.080741\n",
            "ALCOHOL_TEST_RESULT           1.000000\n",
            "DRUG_TEST_RESULTS_(1_of_3)    0.035253\n",
            "DRUG_TEST_RESULTS_(2_of_3)    0.081232\n",
            "DRUG_TEST_RESULTS_(3_of_3)    0.104368\n",
            "Name: ALCOHOL_TEST_RESULT, dtype: float64\n",
            "\n",
            "\n",
            "Correlation of 'DRUG_TEST_RESULTS_(1_of_3)' with other columns:\n",
            "AGE                           0.031057\n",
            "ALCOHOL_TEST_RESULT           0.035253\n",
            "DRUG_TEST_RESULTS_(1_of_3)    1.000000\n",
            "DRUG_TEST_RESULTS_(2_of_3)    0.618618\n",
            "DRUG_TEST_RESULTS_(3_of_3)    0.612122\n",
            "Name: DRUG_TEST_RESULTS_(1_of_3), dtype: float64\n",
            "\n",
            "\n",
            "Correlation of 'DRUG_TEST_RESULTS_(2_of_3)' with other columns:\n",
            "AGE                           0.024676\n",
            "ALCOHOL_TEST_RESULT           0.081232\n",
            "DRUG_TEST_RESULTS_(1_of_3)    0.618618\n",
            "DRUG_TEST_RESULTS_(2_of_3)    1.000000\n",
            "DRUG_TEST_RESULTS_(3_of_3)    0.969488\n",
            "Name: DRUG_TEST_RESULTS_(2_of_3), dtype: float64\n",
            "\n",
            "\n",
            "Correlation of 'DRUG_TEST_RESULTS_(3_of_3)' with other columns:\n",
            "AGE                           0.025657\n",
            "ALCOHOL_TEST_RESULT           0.104368\n",
            "DRUG_TEST_RESULTS_(1_of_3)    0.612122\n",
            "DRUG_TEST_RESULTS_(2_of_3)    0.969488\n",
            "DRUG_TEST_RESULTS_(3_of_3)    1.000000\n",
            "Name: DRUG_TEST_RESULTS_(3_of_3), dtype: float64\n",
            "\n",
            "\n"
          ]
        },
        {
          "output_type": "stream",
          "name": "stderr",
          "text": [
            "<ipython-input-22-4d722efcb920>:2: FutureWarning: The default value of numeric_only in DataFrame.corr is deprecated. In a future version, it will default to False. Select only valid columns or specify the value of numeric_only to silence this warning.\n",
            "  correlation_matrix = df.corr()\n"
          ]
        }
      ]
    },
    {
      "cell_type": "code",
      "source": [
        "report = sv.analyze(df)\n",
        "report.show_html('report.html')"
      ],
      "metadata": {
        "id": "eUKANZKBKJd5",
        "colab": {
          "base_uri": "https://localhost:8080/",
          "height": 86,
          "referenced_widgets": [
            "b4f1de4b9e4541cd8b99c7c9c2121d9a",
            "e3e2ad4acb6f471daf8bb1d20002bc09",
            "0172ee30bebc4fa5a06f4137a9cdbd38",
            "fe1f8ef0766e41f280f7af176c5e16af",
            "e352f4935e074112bb0843add9eca640",
            "d09e72375684487dadeafdf0fcf330ae",
            "0c95085a0a7644b4bd3123e3c0a10ac8",
            "b20c4b9a05cc4b838e81aa8ae5f46ba4",
            "3e9c8aa014a340758f4ec2066e0bc11a",
            "eedb5ef4cb2b4437a62ab13456b80c82",
            "936afff0a71a4459bec1f8e4c3917492"
          ]
        },
        "outputId": "f28e68c8-43e7-49db-e768-ae6eda477cc2"
      },
      "execution_count": null,
      "outputs": [
        {
          "output_type": "display_data",
          "data": {
            "text/plain": [
              "                                             |          | [  0%]   00:00 -> (? left)"
            ],
            "application/vnd.jupyter.widget-view+json": {
              "version_major": 2,
              "version_minor": 0,
              "model_id": "b4f1de4b9e4541cd8b99c7c9c2121d9a"
            }
          },
          "metadata": {}
        },
        {
          "output_type": "stream",
          "name": "stdout",
          "text": [
            "Report report.html was generated! NOTEBOOK/COLAB USERS: the web browser MAY not pop up, regardless, the report IS saved in your notebook/colab files.\n"
          ]
        }
      ]
    },
    {
      "cell_type": "code",
      "source": [
        "df['INJURY_SEVERITY'].value_counts()"
      ],
      "metadata": {
        "colab": {
          "base_uri": "https://localhost:8080/"
        },
        "id": "VqC1IQlGLQ-v",
        "outputId": "3c9c1db4-18db-4bcc-ca28-0ac15fbe624d"
      },
      "execution_count": null,
      "outputs": [
        {
          "output_type": "execute_result",
          "data": {
            "text/plain": [
              "Fatal_Injury                      41442\n",
              "No_Injury                         15642\n",
              "Incapaciting_Injury               14230\n",
              "Nonincapaciting_Evident_Injury    12945\n",
              "Possible_Injury                    8104\n",
              "Injured_Severity_Unknown            233\n",
              "Died_Prior_to_Accident                9\n",
              "Name: INJURY_SEVERITY, dtype: int64"
            ]
          },
          "metadata": {},
          "execution_count": 24
        }
      ]
    },
    {
      "cell_type": "markdown",
      "source": [
        "# Data Preprocessing\n",
        "\n",
        "The data preprocessing pipeline includes an 80-20 split for training and testing sets, ensuring distinct datasets for model training and evaluation. Numerical features undergo MinMax scaling to standardize their ranges, while categorical features are encoded using One-Hot Encoder to transform them into binary vectors. The response variable, representing injury severity, is encoded using Label Encoder with labels assigned based on the severity of the accident, ranging from 1 to 7 in an increasing order. To address class imbalance, Synthetic Minority Over-sampling Technique (SMOTE) is employed, equalizing the entries for each severity class to 33,174 instances. The preprocessing pipeline collectively aim to enhance the performance and generalizability of the machine learning model by ensuring a balanced representation of classes and appropriate feature transformations.\n"
      ],
      "metadata": {
        "id": "5TXdNlXpHsQV"
      }
    },
    {
      "cell_type": "markdown",
      "source": [
        "## Splitting the data"
      ],
      "metadata": {
        "id": "Iomh9tCFJbKS"
      }
    },
    {
      "cell_type": "code",
      "source": [
        "\n",
        "# Splitting the data into training and testing sets\n",
        "X = df.drop('INJURY_SEVERITY', axis=1)  # Features\n",
        "y = df['INJURY_SEVERITY']  # Target variable\n",
        "\n",
        "# Splitting while ensuring shuffling\n",
        "X_train, X_test, y_train, y_test = train_test_split(X, y, test_size=0.2, random_state=42, shuffle=True)\n"
      ],
      "metadata": {
        "id": "YrFgqiy1JaYj"
      },
      "execution_count": null,
      "outputs": []
    },
    {
      "cell_type": "code",
      "source": [
        "np.unique(y_train)"
      ],
      "metadata": {
        "colab": {
          "base_uri": "https://localhost:8080/"
        },
        "id": "HNr0dEEY1ygi",
        "outputId": "37bd3684-debc-44a4-856c-4119ec71dc5d"
      },
      "execution_count": null,
      "outputs": [
        {
          "output_type": "execute_result",
          "data": {
            "text/plain": [
              "array(['Died_Prior_to_Accident', 'Fatal_Injury', 'Incapaciting_Injury',\n",
              "       'Injured_Severity_Unknown', 'No_Injury',\n",
              "       'Nonincapaciting_Evident_Injury', 'Possible_Injury'], dtype=object)"
            ]
          },
          "metadata": {},
          "execution_count": 26
        }
      ]
    },
    {
      "cell_type": "markdown",
      "source": [
        "## Scaling"
      ],
      "metadata": {
        "id": "auD6RqPLJeri"
      }
    },
    {
      "cell_type": "code",
      "source": [
        "numerical_columns = X_train.select_dtypes(include=np.number).columns.tolist()\n",
        "\n",
        "# # Initialize MinMaxScaler\n",
        "scaler = MinMaxScaler()\n",
        "\n",
        "# # Fit and transform the numerical columns in X_train\n",
        "X_train[numerical_columns] = scaler.fit_transform(X_train[numerical_columns])\n",
        "\n",
        "# # Apply the same transformation to numerical columns in X_test\n",
        "X_test[numerical_columns] = scaler.transform(X_test[numerical_columns])\n"
      ],
      "metadata": {
        "id": "r-Rqer6kJhOi"
      },
      "execution_count": null,
      "outputs": []
    },
    {
      "cell_type": "markdown",
      "source": [
        "## Encoding"
      ],
      "metadata": {
        "id": "OlHyOWs_J5I_"
      }
    },
    {
      "cell_type": "code",
      "source": [
        "# Extracting categorical columns\n",
        "categorical_columns = X_train.select_dtypes(include=['object']).columns.tolist()\n",
        "# Reset index to None before encoding\n",
        "X_train.reset_index(drop=True, inplace=True)\n",
        "\n",
        "# One-hot encoding without dropping first column\n",
        "X_train = pd.get_dummies(X_train, columns=categorical_columns, drop_first=False)\n",
        "X_train.shape"
      ],
      "metadata": {
        "colab": {
          "base_uri": "https://localhost:8080/"
        },
        "id": "JbXDoUNXJ70l",
        "outputId": "9b0c3758-9fa2-4cfb-b2da-6b39230be1a4"
      },
      "execution_count": null,
      "outputs": [
        {
          "output_type": "execute_result",
          "data": {
            "text/plain": [
              "(74084, 354)"
            ]
          },
          "metadata": {},
          "execution_count": 28
        }
      ]
    },
    {
      "cell_type": "code",
      "source": [
        "\n",
        "# Extract categorical columns in X_test\n",
        "categorical_columns_test = X_test.select_dtypes(include=['object']).columns.tolist()\n",
        "\n",
        "# Reset index to None before encoding\n",
        "X_test.reset_index(drop=True, inplace=True)\n",
        "\n",
        "# One-hot encoding without dropping first column using the same columns as X_train\n",
        "X_test = pd.get_dummies(X_test, columns=categorical_columns_test, drop_first=False)\n",
        "\n",
        "# Ensure the columns in X_test match the columns in X_train after encoding\n",
        "# Add missing columns in X_test (if any) with zeros\n",
        "missing_cols = set(X_train.columns) - set(X_test.columns)\n",
        "for col in missing_cols:\n",
        "    X_test[col] = 0\n",
        "\n",
        "# Reorder columns in X_test to match the order of columns in X_train\n",
        "X_test = X_test[X_train.columns]\n",
        "X_test.shape"
      ],
      "metadata": {
        "colab": {
          "base_uri": "https://localhost:8080/"
        },
        "id": "0Zygl-GBLYH9",
        "outputId": "2df445ad-738e-4d63-cca8-6633b49f8759"
      },
      "execution_count": null,
      "outputs": [
        {
          "output_type": "execute_result",
          "data": {
            "text/plain": [
              "(18521, 354)"
            ]
          },
          "metadata": {},
          "execution_count": 29
        }
      ]
    },
    {
      "cell_type": "code",
      "source": [
        "\n",
        "# Assuming y_train is a Series after resetting the index\n",
        "label_mapping = {\n",
        "    'Fatal_Injury': 6,\n",
        "    'No_Injury': 2,\n",
        "    'Incapaciting_Injury': 5,\n",
        "    'Nonincapaciting_Evident_Injury': 4,\n",
        "    'Possible_Injury': 3,\n",
        "    'Injured_Severity_Unknown': 1,\n",
        "    'Died_Prior_to_Accident': 7\n",
        "}\n",
        "\n",
        "# Initialize LabelEncoder\n",
        "encoder = LabelEncoder()\n",
        "\n",
        "# Transform the 'INJURY_SEVERITY' values using the label mapping\n",
        "y_train = y_train.map(label_mapping)\n",
        "\n",
        "# Fit and transform using LabelEncoder\n",
        "y_train = encoder.fit_transform(y_train)\n",
        "# Adding 1 to shift the labels to start from 1\n",
        "y_train += 1\n",
        "y_train.shape"
      ],
      "metadata": {
        "colab": {
          "base_uri": "https://localhost:8080/"
        },
        "id": "bzjSOQroLZGt",
        "outputId": "9f662fd8-b348-459b-aaec-c44d582d07ab"
      },
      "execution_count": null,
      "outputs": [
        {
          "output_type": "execute_result",
          "data": {
            "text/plain": [
              "(74084,)"
            ]
          },
          "metadata": {},
          "execution_count": 30
        }
      ]
    },
    {
      "cell_type": "code",
      "source": [
        "# Transform the 'INJURY_SEVERITY' values in y_test using the label mapping\n",
        "y_test = y_test.map(label_mapping)\n",
        "\n",
        "# Transform y_test using the same encoder as used on y_train\n",
        "y_test = encoder.transform(y_test)\n",
        "# Adding 1 to shift the labels to start from 1\n",
        "y_test += 1\n",
        "y_test.shape"
      ],
      "metadata": {
        "colab": {
          "base_uri": "https://localhost:8080/"
        },
        "id": "5vN4g_t6MBA_",
        "outputId": "a4a2d7b0-2aeb-44d1-d768-ea28adbdefca"
      },
      "execution_count": null,
      "outputs": [
        {
          "output_type": "execute_result",
          "data": {
            "text/plain": [
              "(18521,)"
            ]
          },
          "metadata": {},
          "execution_count": 31
        }
      ]
    },
    {
      "cell_type": "markdown",
      "source": [
        "## Handling Class Imbalance"
      ],
      "metadata": {
        "id": "-vwBbh3fMFOk"
      }
    },
    {
      "cell_type": "code",
      "source": [
        "\n",
        "# Initialize SMOTE\n",
        "smote = SMOTE(random_state=42)\n",
        "\n",
        "# Apply SMOTE to the training data\n",
        "X_train, y_train = smote.fit_resample(X_train, y_train)\n",
        "\n",
        "\n",
        "print('Original dataset shape', Counter(y))\n",
        "print('Resampled dataset shape', Counter(y_train))\n"
      ],
      "metadata": {
        "colab": {
          "base_uri": "https://localhost:8080/"
        },
        "id": "5fLLRPUm0TTg",
        "outputId": "72dc9b37-e0c6-4466-8d6e-12406b5ec0ec"
      },
      "execution_count": null,
      "outputs": [
        {
          "output_type": "stream",
          "name": "stdout",
          "text": [
            "Original dataset shape Counter({'Fatal_Injury': 41442, 'No_Injury': 15642, 'Incapaciting_Injury': 14230, 'Nonincapaciting_Evident_Injury': 12945, 'Possible_Injury': 8104, 'Injured_Severity_Unknown': 233, 'Died_Prior_to_Accident': 9})\n",
            "Resampled dataset shape Counter({6: 33174, 3: 33174, 5: 33174, 4: 33174, 2: 33174, 1: 33174, 7: 33174})\n"
          ]
        }
      ]
    },
    {
      "cell_type": "markdown",
      "source": [
        "# Logistic Regression with LDA and K-fold cross validation\n",
        "The initial implementation of a logistic regression model with LDA (Linear Discriminant Analysis) and k-fold cross-validation provides a promising starting point for assessing the accuracy of the model on the validation set. The reported validation set accuracy of 72% suggests that the model is performing reasonably well during training. However, it's crucial to evaluate the model's generalization performance on an independent dataset.\n",
        "\n",
        "Upon testing the model on the test set, the accuracy slightly decreases to 70%. This indicates that the model may have a slight drop in performance when applied to new, unseen data. Additionally, considering alternative models or fine-tuning hyperparameters might be explored to enhance performance further. Nonetheless, the implemented logistic regression with LDA serves as a valuable baseline, and subsequent iterations can build upon this foundation for improved predictive accuracy."
      ],
      "metadata": {
        "id": "VBxZJefcPe_h"
      }
    },
    {
      "cell_type": "markdown",
      "source": [
        "### Model training"
      ],
      "metadata": {
        "id": "PCbMmNRDUZNh"
      }
    },
    {
      "cell_type": "code",
      "source": [
        "\n",
        "\n",
        "# Set up the pipeline including LDA and Logistic Regression\n",
        "pipeline = Pipeline([\n",
        "    ('lda', LinearDiscriminantAnalysis()),  # LDA step\n",
        "    ('classifier', LogisticRegression(max_iter=1000))  # Logistic Regression step\n",
        "])\n",
        "\n",
        "# Convert Pandas DataFrame to NumPy arrays\n",
        "X_train_np = X_train.to_numpy()\n",
        "\n",
        "# Set up k-fold cross-validation\n",
        "kfold = KFold(n_splits=5, shuffle=True, random_state=42)\n",
        "\n",
        "# Perform k-fold cross-validation without hyperparameter tuning\n",
        "for train_index, val_index in kfold.split(X_train_np):\n",
        "    X_train_fold, X_val_fold = X_train_np[train_index], X_train_np[val_index]\n",
        "    y_train_fold, y_val_fold = y_train[train_index], y_train[val_index]\n",
        "\n",
        "    # Fit the model on the training fold\n",
        "    pipeline.fit(X_train_fold, y_train_fold)\n",
        "\n",
        "    # Evaluate the model on the validation fold\n",
        "    y_pred = pipeline.predict(X_val_fold)\n",
        "    accuracy = accuracy_score(y_val_fold, y_pred)\n",
        "    print(\"Accuracy on Validation Set:\", accuracy)\n"
      ],
      "metadata": {
        "colab": {
          "base_uri": "https://localhost:8080/"
        },
        "id": "svejAbn_O57g",
        "outputId": "5d45782f-b8a8-4345-d10c-f6fbea3f5952"
      },
      "execution_count": null,
      "outputs": [
        {
          "output_type": "stream",
          "name": "stdout",
          "text": [
            "Accuracy on Validation Set: 0.7198777021789682\n",
            "Accuracy on Validation Set: 0.7241409008698648\n",
            "Accuracy on Validation Set: 0.720631297907157\n",
            "Accuracy on Validation Set: 0.7244364059169305\n",
            "Accuracy on Validation Set: 0.724005770514394\n"
          ]
        }
      ]
    },
    {
      "cell_type": "markdown",
      "source": [
        "###Model Visualization"
      ],
      "metadata": {
        "id": "IHg4aC8aZJYH"
      }
    },
    {
      "cell_type": "code",
      "source": [
        "pipeline"
      ],
      "metadata": {
        "colab": {
          "base_uri": "https://localhost:8080/",
          "height": 125
        },
        "id": "1wwcnx2QiT55",
        "outputId": "07210c35-49ef-417c-d3fe-584fa9b693fc"
      },
      "execution_count": null,
      "outputs": [
        {
          "output_type": "execute_result",
          "data": {
            "text/plain": [
              "Pipeline(steps=[('lda', LinearDiscriminantAnalysis()),\n",
              "                ('classifier', LogisticRegression(max_iter=1000))])"
            ],
            "text/html": [
              "<style>#sk-container-id-1 {color: black;background-color: white;}#sk-container-id-1 pre{padding: 0;}#sk-container-id-1 div.sk-toggleable {background-color: white;}#sk-container-id-1 label.sk-toggleable__label {cursor: pointer;display: block;width: 100%;margin-bottom: 0;padding: 0.3em;box-sizing: border-box;text-align: center;}#sk-container-id-1 label.sk-toggleable__label-arrow:before {content: \"▸\";float: left;margin-right: 0.25em;color: #696969;}#sk-container-id-1 label.sk-toggleable__label-arrow:hover:before {color: black;}#sk-container-id-1 div.sk-estimator:hover label.sk-toggleable__label-arrow:before {color: black;}#sk-container-id-1 div.sk-toggleable__content {max-height: 0;max-width: 0;overflow: hidden;text-align: left;background-color: #f0f8ff;}#sk-container-id-1 div.sk-toggleable__content pre {margin: 0.2em;color: black;border-radius: 0.25em;background-color: #f0f8ff;}#sk-container-id-1 input.sk-toggleable__control:checked~div.sk-toggleable__content {max-height: 200px;max-width: 100%;overflow: auto;}#sk-container-id-1 input.sk-toggleable__control:checked~label.sk-toggleable__label-arrow:before {content: \"▾\";}#sk-container-id-1 div.sk-estimator input.sk-toggleable__control:checked~label.sk-toggleable__label {background-color: #d4ebff;}#sk-container-id-1 div.sk-label input.sk-toggleable__control:checked~label.sk-toggleable__label {background-color: #d4ebff;}#sk-container-id-1 input.sk-hidden--visually {border: 0;clip: rect(1px 1px 1px 1px);clip: rect(1px, 1px, 1px, 1px);height: 1px;margin: -1px;overflow: hidden;padding: 0;position: absolute;width: 1px;}#sk-container-id-1 div.sk-estimator {font-family: monospace;background-color: #f0f8ff;border: 1px dotted black;border-radius: 0.25em;box-sizing: border-box;margin-bottom: 0.5em;}#sk-container-id-1 div.sk-estimator:hover {background-color: #d4ebff;}#sk-container-id-1 div.sk-parallel-item::after {content: \"\";width: 100%;border-bottom: 1px solid gray;flex-grow: 1;}#sk-container-id-1 div.sk-label:hover label.sk-toggleable__label {background-color: #d4ebff;}#sk-container-id-1 div.sk-serial::before {content: \"\";position: absolute;border-left: 1px solid gray;box-sizing: border-box;top: 0;bottom: 0;left: 50%;z-index: 0;}#sk-container-id-1 div.sk-serial {display: flex;flex-direction: column;align-items: center;background-color: white;padding-right: 0.2em;padding-left: 0.2em;position: relative;}#sk-container-id-1 div.sk-item {position: relative;z-index: 1;}#sk-container-id-1 div.sk-parallel {display: flex;align-items: stretch;justify-content: center;background-color: white;position: relative;}#sk-container-id-1 div.sk-item::before, #sk-container-id-1 div.sk-parallel-item::before {content: \"\";position: absolute;border-left: 1px solid gray;box-sizing: border-box;top: 0;bottom: 0;left: 50%;z-index: -1;}#sk-container-id-1 div.sk-parallel-item {display: flex;flex-direction: column;z-index: 1;position: relative;background-color: white;}#sk-container-id-1 div.sk-parallel-item:first-child::after {align-self: flex-end;width: 50%;}#sk-container-id-1 div.sk-parallel-item:last-child::after {align-self: flex-start;width: 50%;}#sk-container-id-1 div.sk-parallel-item:only-child::after {width: 0;}#sk-container-id-1 div.sk-dashed-wrapped {border: 1px dashed gray;margin: 0 0.4em 0.5em 0.4em;box-sizing: border-box;padding-bottom: 0.4em;background-color: white;}#sk-container-id-1 div.sk-label label {font-family: monospace;font-weight: bold;display: inline-block;line-height: 1.2em;}#sk-container-id-1 div.sk-label-container {text-align: center;}#sk-container-id-1 div.sk-container {/* jupyter's `normalize.less` sets `[hidden] { display: none; }` but bootstrap.min.css set `[hidden] { display: none !important; }` so we also need the `!important` here to be able to override the default hidden behavior on the sphinx rendered scikit-learn.org. See: https://github.com/scikit-learn/scikit-learn/issues/21755 */display: inline-block !important;position: relative;}#sk-container-id-1 div.sk-text-repr-fallback {display: none;}</style><div id=\"sk-container-id-1\" class=\"sk-top-container\"><div class=\"sk-text-repr-fallback\"><pre>Pipeline(steps=[(&#x27;lda&#x27;, LinearDiscriminantAnalysis()),\n",
              "                (&#x27;classifier&#x27;, LogisticRegression(max_iter=1000))])</pre><b>In a Jupyter environment, please rerun this cell to show the HTML representation or trust the notebook. <br />On GitHub, the HTML representation is unable to render, please try loading this page with nbviewer.org.</b></div><div class=\"sk-container\" hidden><div class=\"sk-item sk-dashed-wrapped\"><div class=\"sk-label-container\"><div class=\"sk-label sk-toggleable\"><input class=\"sk-toggleable__control sk-hidden--visually\" id=\"sk-estimator-id-1\" type=\"checkbox\" ><label for=\"sk-estimator-id-1\" class=\"sk-toggleable__label sk-toggleable__label-arrow\">Pipeline</label><div class=\"sk-toggleable__content\"><pre>Pipeline(steps=[(&#x27;lda&#x27;, LinearDiscriminantAnalysis()),\n",
              "                (&#x27;classifier&#x27;, LogisticRegression(max_iter=1000))])</pre></div></div></div><div class=\"sk-serial\"><div class=\"sk-item\"><div class=\"sk-estimator sk-toggleable\"><input class=\"sk-toggleable__control sk-hidden--visually\" id=\"sk-estimator-id-2\" type=\"checkbox\" ><label for=\"sk-estimator-id-2\" class=\"sk-toggleable__label sk-toggleable__label-arrow\">LinearDiscriminantAnalysis</label><div class=\"sk-toggleable__content\"><pre>LinearDiscriminantAnalysis()</pre></div></div></div><div class=\"sk-item\"><div class=\"sk-estimator sk-toggleable\"><input class=\"sk-toggleable__control sk-hidden--visually\" id=\"sk-estimator-id-3\" type=\"checkbox\" ><label for=\"sk-estimator-id-3\" class=\"sk-toggleable__label sk-toggleable__label-arrow\">LogisticRegression</label><div class=\"sk-toggleable__content\"><pre>LogisticRegression(max_iter=1000)</pre></div></div></div></div></div></div></div>"
            ]
          },
          "metadata": {},
          "execution_count": 21
        }
      ]
    },
    {
      "cell_type": "markdown",
      "source": [
        "###Model Evaluation"
      ],
      "metadata": {
        "id": "YAMpe2vXWbMx"
      }
    },
    {
      "cell_type": "code",
      "source": [
        "from sklearn.metrics import confusion_matrix, accuracy_score, precision_score, recall_score, f1_score\n",
        "\n",
        "# Predict on the test set using the trained pipeline\n",
        "y_pred_test = pipeline.predict(X_test)\n",
        "\n",
        "# Calculate Accuracy on the test set\n",
        "accuracy_test = accuracy_score(y_test, y_pred_test)\n",
        "print(f'Accuracy on Test Set: {accuracy_test:.4f}')\n",
        "\n",
        "# Calculate Precision, Recall, and F1-score on the test set\n",
        "precision_test = precision_score(y_test, y_pred_test, average='weighted')\n",
        "recall_test = recall_score(y_test, y_pred_test, average='weighted')\n",
        "f1_test = f1_score(y_test, y_pred_test, average='weighted')\n",
        "\n",
        "print(f'Precision on Test Set: {precision_test:.4f}')\n",
        "print(f'Recall on Test Set: {recall_test:.4f}')\n",
        "print(f'F1-score on Test Set: {f1_test:.4f}')\n",
        "\n"
      ],
      "metadata": {
        "colab": {
          "base_uri": "https://localhost:8080/"
        },
        "id": "Lwhh-kIZPvBo",
        "outputId": "345e3b3a-25c6-4db3-835c-8254ab876404"
      },
      "execution_count": null,
      "outputs": [
        {
          "output_type": "stream",
          "name": "stdout",
          "text": [
            "Accuracy on Test Set: 0.7074\n"
          ]
        },
        {
          "output_type": "stream",
          "name": "stderr",
          "text": [
            "/usr/local/lib/python3.10/dist-packages/sklearn/base.py:432: UserWarning: X has feature names, but LinearDiscriminantAnalysis was fitted without feature names\n",
            "  warnings.warn(\n",
            "/usr/local/lib/python3.10/dist-packages/sklearn/metrics/_classification.py:1344: UndefinedMetricWarning: Precision is ill-defined and being set to 0.0 in labels with no predicted samples. Use `zero_division` parameter to control this behavior.\n",
            "  _warn_prf(average, modifier, msg_start, len(result))\n"
          ]
        },
        {
          "output_type": "stream",
          "name": "stdout",
          "text": [
            "Precision on Test Set: 0.7114\n",
            "Recall on Test Set: 0.7074\n",
            "F1-score on Test Set: 0.7026\n"
          ]
        }
      ]
    },
    {
      "cell_type": "markdown",
      "source": [
        "# Implementing PCA on train and test set\n",
        "For the next set of models, we decided to use PCA (Principal Component Analysis) for selecting important features. Essentially, PCA helps us simplify and focus on the most critical aspects of the data, making it easier for the models to learn and make predictions."
      ],
      "metadata": {
        "id": "xZmFlmVRVldB"
      }
    },
    {
      "cell_type": "code",
      "source": [
        "\n",
        "# Initialize PCA and fit it to the scaled training data\n",
        "pca = PCA(n_components=0.95)  # Choose the number of components or explained variance ratio\n",
        "X_train_pca = pca.fit_transform(X_train)\n",
        "X_test_pca = pca.transform(X_test)\n"
      ],
      "metadata": {
        "id": "vUN9t1Q67wdw"
      },
      "execution_count": null,
      "outputs": []
    },
    {
      "cell_type": "markdown",
      "source": [
        "#SVM with k-fold cross validation and PCA\n",
        "I applied Support Vector Machine (SVM) with Principal Component Analysis (PCA) and 5-fold cross-validation for feature selection and model evaluation. The accuracy on the validation set reached 79%, and this performance was consistent when testing on the separate test set, also achieving 79% accuracy. Additionally, precision, recall, and F1-score metrics on the test set were computed to provide a more detailed evaluation of the model's performance. The precision was found to be 0.7827, recall was 0.7918, and the F1-score reached 0.7856. Support Vector Machines (SVM) are powerful algorithms for classification tasks like predicting injury severity in this project. They work by finding the optimal hyperplane that best separates different classes in the feature space. The inclusion of PCA aids in reducing the dimensionality of the dataset while maintaining essential information, contributing to improved efficiency and computational performance.\n",
        "\n"
      ],
      "metadata": {
        "id": "ULhRK8d9WkBu"
      }
    },
    {
      "cell_type": "markdown",
      "source": [
        "###Model Training"
      ],
      "metadata": {
        "id": "0pEZfFfDWxmF"
      }
    },
    {
      "cell_type": "code",
      "source": [
        "\n",
        "# Set up the pipeline including SVM with scaling\n",
        "svm_pipeline = Pipeline([\n",
        "    ('svm', SVC(kernel='rbf', random_state=42))  # SVM Classifier step\n",
        "])\n",
        "\n",
        "# Set up k-fold cross-validation\n",
        "kfold = KFold(n_splits=5, shuffle=True, random_state=42)\n",
        "\n",
        "# Perform k-fold cross-validation\n",
        "for train_index, val_index in kfold.split(X_train_pca):\n",
        "    X_train_fold, X_val_fold = X_train_pca[train_index], X_train_pca[val_index]\n",
        "    y_train_fold, y_val_fold = y_train[train_index], y_train[val_index]\n",
        "\n",
        "    # Fit the model on the training fold\n",
        "    svm_pipeline.fit(X_train_fold, y_train_fold)\n",
        "\n",
        "    # Evaluate the model on the validation fold\n",
        "    y_pred = svm_pipeline.predict(X_val_fold)\n",
        "    accuracy = accuracy_score(y_val_fold, y_pred)\n",
        "    print(\"Accuracy on Validation Set:\", accuracy)\n"
      ],
      "metadata": {
        "colab": {
          "base_uri": "https://localhost:8080/"
        },
        "id": "D75N_4OJwho0",
        "outputId": "a137e201-c35f-4d1d-bd37-ee04f141dd37"
      },
      "execution_count": null,
      "outputs": [
        {
          "output_type": "stream",
          "name": "stdout",
          "text": [
            "Accuracy on Validation Set: 0.792136766859013\n",
            "Accuracy on Validation Set: 0.7923951425372492\n",
            "Accuracy on Validation Set: 0.7904357936439583\n",
            "Accuracy on Validation Set: 0.7909911073789376\n",
            "Accuracy on Validation Set: 0.7942639364382146\n"
          ]
        }
      ]
    },
    {
      "cell_type": "markdown",
      "source": [
        "###Model Interpretation"
      ],
      "metadata": {
        "id": "icpLdo1gW0si"
      }
    },
    {
      "cell_type": "code",
      "source": [
        "svm_pipeline"
      ],
      "metadata": {
        "colab": {
          "base_uri": "https://localhost:8080/",
          "height": 91
        },
        "id": "FikNHW3Awnu-",
        "outputId": "41d32d3c-78fc-4e13-b56e-eb34288cfeac"
      },
      "execution_count": null,
      "outputs": [
        {
          "output_type": "execute_result",
          "data": {
            "text/plain": [
              "Pipeline(steps=[('svm', SVC(random_state=42))])"
            ],
            "text/html": [
              "<style>#sk-container-id-4 {color: black;background-color: white;}#sk-container-id-4 pre{padding: 0;}#sk-container-id-4 div.sk-toggleable {background-color: white;}#sk-container-id-4 label.sk-toggleable__label {cursor: pointer;display: block;width: 100%;margin-bottom: 0;padding: 0.3em;box-sizing: border-box;text-align: center;}#sk-container-id-4 label.sk-toggleable__label-arrow:before {content: \"▸\";float: left;margin-right: 0.25em;color: #696969;}#sk-container-id-4 label.sk-toggleable__label-arrow:hover:before {color: black;}#sk-container-id-4 div.sk-estimator:hover label.sk-toggleable__label-arrow:before {color: black;}#sk-container-id-4 div.sk-toggleable__content {max-height: 0;max-width: 0;overflow: hidden;text-align: left;background-color: #f0f8ff;}#sk-container-id-4 div.sk-toggleable__content pre {margin: 0.2em;color: black;border-radius: 0.25em;background-color: #f0f8ff;}#sk-container-id-4 input.sk-toggleable__control:checked~div.sk-toggleable__content {max-height: 200px;max-width: 100%;overflow: auto;}#sk-container-id-4 input.sk-toggleable__control:checked~label.sk-toggleable__label-arrow:before {content: \"▾\";}#sk-container-id-4 div.sk-estimator input.sk-toggleable__control:checked~label.sk-toggleable__label {background-color: #d4ebff;}#sk-container-id-4 div.sk-label input.sk-toggleable__control:checked~label.sk-toggleable__label {background-color: #d4ebff;}#sk-container-id-4 input.sk-hidden--visually {border: 0;clip: rect(1px 1px 1px 1px);clip: rect(1px, 1px, 1px, 1px);height: 1px;margin: -1px;overflow: hidden;padding: 0;position: absolute;width: 1px;}#sk-container-id-4 div.sk-estimator {font-family: monospace;background-color: #f0f8ff;border: 1px dotted black;border-radius: 0.25em;box-sizing: border-box;margin-bottom: 0.5em;}#sk-container-id-4 div.sk-estimator:hover {background-color: #d4ebff;}#sk-container-id-4 div.sk-parallel-item::after {content: \"\";width: 100%;border-bottom: 1px solid gray;flex-grow: 1;}#sk-container-id-4 div.sk-label:hover label.sk-toggleable__label {background-color: #d4ebff;}#sk-container-id-4 div.sk-serial::before {content: \"\";position: absolute;border-left: 1px solid gray;box-sizing: border-box;top: 0;bottom: 0;left: 50%;z-index: 0;}#sk-container-id-4 div.sk-serial {display: flex;flex-direction: column;align-items: center;background-color: white;padding-right: 0.2em;padding-left: 0.2em;position: relative;}#sk-container-id-4 div.sk-item {position: relative;z-index: 1;}#sk-container-id-4 div.sk-parallel {display: flex;align-items: stretch;justify-content: center;background-color: white;position: relative;}#sk-container-id-4 div.sk-item::before, #sk-container-id-4 div.sk-parallel-item::before {content: \"\";position: absolute;border-left: 1px solid gray;box-sizing: border-box;top: 0;bottom: 0;left: 50%;z-index: -1;}#sk-container-id-4 div.sk-parallel-item {display: flex;flex-direction: column;z-index: 1;position: relative;background-color: white;}#sk-container-id-4 div.sk-parallel-item:first-child::after {align-self: flex-end;width: 50%;}#sk-container-id-4 div.sk-parallel-item:last-child::after {align-self: flex-start;width: 50%;}#sk-container-id-4 div.sk-parallel-item:only-child::after {width: 0;}#sk-container-id-4 div.sk-dashed-wrapped {border: 1px dashed gray;margin: 0 0.4em 0.5em 0.4em;box-sizing: border-box;padding-bottom: 0.4em;background-color: white;}#sk-container-id-4 div.sk-label label {font-family: monospace;font-weight: bold;display: inline-block;line-height: 1.2em;}#sk-container-id-4 div.sk-label-container {text-align: center;}#sk-container-id-4 div.sk-container {/* jupyter's `normalize.less` sets `[hidden] { display: none; }` but bootstrap.min.css set `[hidden] { display: none !important; }` so we also need the `!important` here to be able to override the default hidden behavior on the sphinx rendered scikit-learn.org. See: https://github.com/scikit-learn/scikit-learn/issues/21755 */display: inline-block !important;position: relative;}#sk-container-id-4 div.sk-text-repr-fallback {display: none;}</style><div id=\"sk-container-id-4\" class=\"sk-top-container\"><div class=\"sk-text-repr-fallback\"><pre>Pipeline(steps=[(&#x27;svm&#x27;, SVC(random_state=42))])</pre><b>In a Jupyter environment, please rerun this cell to show the HTML representation or trust the notebook. <br />On GitHub, the HTML representation is unable to render, please try loading this page with nbviewer.org.</b></div><div class=\"sk-container\" hidden><div class=\"sk-item sk-dashed-wrapped\"><div class=\"sk-label-container\"><div class=\"sk-label sk-toggleable\"><input class=\"sk-toggleable__control sk-hidden--visually\" id=\"sk-estimator-id-8\" type=\"checkbox\" ><label for=\"sk-estimator-id-8\" class=\"sk-toggleable__label sk-toggleable__label-arrow\">Pipeline</label><div class=\"sk-toggleable__content\"><pre>Pipeline(steps=[(&#x27;svm&#x27;, SVC(random_state=42))])</pre></div></div></div><div class=\"sk-serial\"><div class=\"sk-item\"><div class=\"sk-estimator sk-toggleable\"><input class=\"sk-toggleable__control sk-hidden--visually\" id=\"sk-estimator-id-9\" type=\"checkbox\" ><label for=\"sk-estimator-id-9\" class=\"sk-toggleable__label sk-toggleable__label-arrow\">SVC</label><div class=\"sk-toggleable__content\"><pre>SVC(random_state=42)</pre></div></div></div></div></div></div></div>"
            ]
          },
          "metadata": {},
          "execution_count": 44
        }
      ]
    },
    {
      "cell_type": "markdown",
      "source": [
        "###Model Evaluation"
      ],
      "metadata": {
        "id": "9DxbJOS3Yamf"
      }
    },
    {
      "cell_type": "code",
      "source": [
        "\n",
        "# Predict on the test set using the trained pipeline\n",
        "y_pred_test = svm_pipeline.predict(X_test_pca)\n",
        "\n",
        "# Calculate Accuracy on the test set\n",
        "accuracy_test = accuracy_score(y_test, y_pred_test)\n",
        "print(f'Accuracy on Test Set: {accuracy_test:.4f}')\n",
        "\n",
        "# Calculate Precision, Recall, and F1-score on the test set\n",
        "precision_test = precision_score(y_test, y_pred_test, average='weighted')\n",
        "recall_test = recall_score(y_test, y_pred_test, average='weighted')\n",
        "f1_test = f1_score(y_test, y_pred_test, average='weighted')\n",
        "\n",
        "print(f'Precision on Test Set: {precision_test:.4f}')\n",
        "print(f'Recall on Test Set: {recall_test:.4f}')\n",
        "print(f'F1-score on Test Set: {f1_test:.4f}')\n",
        "\n",
        "\n"
      ],
      "metadata": {
        "colab": {
          "base_uri": "https://localhost:8080/"
        },
        "id": "FlAjF9CX59j9",
        "outputId": "6ef831fd-ef35-41c9-8601-4184b66d01ff"
      },
      "execution_count": null,
      "outputs": [
        {
          "output_type": "stream",
          "name": "stdout",
          "text": [
            "Accuracy on Test Set: 0.7918\n",
            "Precision on Test Set: 0.7827\n",
            "Recall on Test Set: 0.7918\n",
            "F1-score on Test Set: 0.7856\n"
          ]
        },
        {
          "output_type": "stream",
          "name": "stderr",
          "text": [
            "/usr/local/lib/python3.10/dist-packages/sklearn/metrics/_classification.py:1344: UndefinedMetricWarning: Precision is ill-defined and being set to 0.0 in labels with no predicted samples. Use `zero_division` parameter to control this behavior.\n",
            "  _warn_prf(average, modifier, msg_start, len(result))\n"
          ]
        }
      ]
    },
    {
      "cell_type": "markdown",
      "source": [
        "#Decision Tree\n",
        "A Decision Tree model with k-fold cross-validation is implemented, initially without hyperparameter tuning, achieving an accuracy of 81% on the validation set. However, when evaluating on the test set, the accuracy was 72.07%, with precision, recall, and F1-score values of 0.7334, 0.7207, and 0.7266, respectively.\n",
        "\n",
        "After performing hyperparameter tuning, the best parameters were identified as {'max_depth': 15, 'min_samples_leaf': 2, 'min_samples_split': 5}. This refinement led to an increased accuracy of 75.42% on both the validation and test sets. Precision on the test set improved to 0.7569, while recall and F1-score reached 0.7542 and 0.7466, respectively.\n",
        "\n",
        "Decision Trees are a powerful and interpretable machine learning algorithm widely used for classification and regression tasks. They work by recursively partitioning the data into subsets based on feature conditions, forming a tree-like structure. Hyperparameter tuning helps in optimizing the decision tree's parameters, such as the maximum depth and minimum samples for leaf and split nodes, leading to a more accurate and generalized model. In this case, the tuning process contributed to a notable improvement in the accuracy of the test set."
      ],
      "metadata": {
        "id": "ff-4lHtsYGyp"
      }
    },
    {
      "cell_type": "markdown",
      "source": [
        "## Decision Tree with k-fold cross validation and without hyperparameter tuning\n"
      ],
      "metadata": {
        "id": "gsd_RDp_UGml"
      }
    },
    {
      "cell_type": "markdown",
      "source": [
        "###Model Training"
      ],
      "metadata": {
        "id": "AW71Lnp9YSH_"
      }
    },
    {
      "cell_type": "code",
      "source": [
        "\n",
        "# Set up the pipeline including Decision Tree Classifier\n",
        "dt_pipeline = Pipeline([\n",
        "    ('dt', DecisionTreeClassifier(random_state=42))  # Decision Tree Classifier step\n",
        "])\n",
        "\n",
        "\n",
        "# Set up k-fold cross-validation\n",
        "kfold = KFold(n_splits=5, shuffle=True, random_state=42)\n",
        "\n",
        "# Perform k-fold cross-validation without hyperparameter tuning\n",
        "for train_index, val_index in kfold.split(X_train_pca):\n",
        "    X_train_fold, X_val_fold = X_train_pca[train_index], X_train_pca[val_index]\n",
        "    y_train_fold, y_val_fold = y_train[train_index], y_train[val_index]\n",
        "\n",
        "    # Fit the model on the training fold\n",
        "    dt_pipeline.fit(X_train_fold, y_train_fold)\n",
        "\n",
        "    # Evaluate the model on the validation fold\n",
        "    y_pred = dt_pipeline.predict(X_val_fold)\n",
        "    accuracy = accuracy_score(y_val_fold, y_pred)\n",
        "    print(\"Accuracy on Validation Set:\", accuracy)\n"
      ],
      "metadata": {
        "colab": {
          "base_uri": "https://localhost:8080/"
        },
        "id": "gOHXrhy7w_QN",
        "outputId": "9838176e-c275-499d-d690-9677423099f3"
      },
      "execution_count": null,
      "outputs": [
        {
          "output_type": "stream",
          "name": "stdout",
          "text": [
            "Accuracy on Validation Set: 0.8141202308156059\n",
            "Accuracy on Validation Set: 0.8181896477478253\n",
            "Accuracy on Validation Set: 0.8158857979502196\n",
            "Accuracy on Validation Set: 0.8156880477144026\n",
            "Accuracy on Validation Set: 0.8193699804060892\n"
          ]
        }
      ]
    },
    {
      "cell_type": "markdown",
      "source": [
        "###Model Interpretation"
      ],
      "metadata": {
        "id": "7lpW7PmTYYb5"
      }
    },
    {
      "cell_type": "code",
      "source": [
        "dt_pipeline"
      ],
      "metadata": {
        "colab": {
          "base_uri": "https://localhost:8080/",
          "height": 91
        },
        "id": "kPpD_cOyxCvt",
        "outputId": "ac5b2697-09eb-4509-83c0-6583d6073c28"
      },
      "execution_count": null,
      "outputs": [
        {
          "output_type": "execute_result",
          "data": {
            "text/plain": [
              "Pipeline(steps=[('dt', DecisionTreeClassifier(random_state=42))])"
            ],
            "text/html": [
              "<style>#sk-container-id-1 {color: black;background-color: white;}#sk-container-id-1 pre{padding: 0;}#sk-container-id-1 div.sk-toggleable {background-color: white;}#sk-container-id-1 label.sk-toggleable__label {cursor: pointer;display: block;width: 100%;margin-bottom: 0;padding: 0.3em;box-sizing: border-box;text-align: center;}#sk-container-id-1 label.sk-toggleable__label-arrow:before {content: \"▸\";float: left;margin-right: 0.25em;color: #696969;}#sk-container-id-1 label.sk-toggleable__label-arrow:hover:before {color: black;}#sk-container-id-1 div.sk-estimator:hover label.sk-toggleable__label-arrow:before {color: black;}#sk-container-id-1 div.sk-toggleable__content {max-height: 0;max-width: 0;overflow: hidden;text-align: left;background-color: #f0f8ff;}#sk-container-id-1 div.sk-toggleable__content pre {margin: 0.2em;color: black;border-radius: 0.25em;background-color: #f0f8ff;}#sk-container-id-1 input.sk-toggleable__control:checked~div.sk-toggleable__content {max-height: 200px;max-width: 100%;overflow: auto;}#sk-container-id-1 input.sk-toggleable__control:checked~label.sk-toggleable__label-arrow:before {content: \"▾\";}#sk-container-id-1 div.sk-estimator input.sk-toggleable__control:checked~label.sk-toggleable__label {background-color: #d4ebff;}#sk-container-id-1 div.sk-label input.sk-toggleable__control:checked~label.sk-toggleable__label {background-color: #d4ebff;}#sk-container-id-1 input.sk-hidden--visually {border: 0;clip: rect(1px 1px 1px 1px);clip: rect(1px, 1px, 1px, 1px);height: 1px;margin: -1px;overflow: hidden;padding: 0;position: absolute;width: 1px;}#sk-container-id-1 div.sk-estimator {font-family: monospace;background-color: #f0f8ff;border: 1px dotted black;border-radius: 0.25em;box-sizing: border-box;margin-bottom: 0.5em;}#sk-container-id-1 div.sk-estimator:hover {background-color: #d4ebff;}#sk-container-id-1 div.sk-parallel-item::after {content: \"\";width: 100%;border-bottom: 1px solid gray;flex-grow: 1;}#sk-container-id-1 div.sk-label:hover label.sk-toggleable__label {background-color: #d4ebff;}#sk-container-id-1 div.sk-serial::before {content: \"\";position: absolute;border-left: 1px solid gray;box-sizing: border-box;top: 0;bottom: 0;left: 50%;z-index: 0;}#sk-container-id-1 div.sk-serial {display: flex;flex-direction: column;align-items: center;background-color: white;padding-right: 0.2em;padding-left: 0.2em;position: relative;}#sk-container-id-1 div.sk-item {position: relative;z-index: 1;}#sk-container-id-1 div.sk-parallel {display: flex;align-items: stretch;justify-content: center;background-color: white;position: relative;}#sk-container-id-1 div.sk-item::before, #sk-container-id-1 div.sk-parallel-item::before {content: \"\";position: absolute;border-left: 1px solid gray;box-sizing: border-box;top: 0;bottom: 0;left: 50%;z-index: -1;}#sk-container-id-1 div.sk-parallel-item {display: flex;flex-direction: column;z-index: 1;position: relative;background-color: white;}#sk-container-id-1 div.sk-parallel-item:first-child::after {align-self: flex-end;width: 50%;}#sk-container-id-1 div.sk-parallel-item:last-child::after {align-self: flex-start;width: 50%;}#sk-container-id-1 div.sk-parallel-item:only-child::after {width: 0;}#sk-container-id-1 div.sk-dashed-wrapped {border: 1px dashed gray;margin: 0 0.4em 0.5em 0.4em;box-sizing: border-box;padding-bottom: 0.4em;background-color: white;}#sk-container-id-1 div.sk-label label {font-family: monospace;font-weight: bold;display: inline-block;line-height: 1.2em;}#sk-container-id-1 div.sk-label-container {text-align: center;}#sk-container-id-1 div.sk-container {/* jupyter's `normalize.less` sets `[hidden] { display: none; }` but bootstrap.min.css set `[hidden] { display: none !important; }` so we also need the `!important` here to be able to override the default hidden behavior on the sphinx rendered scikit-learn.org. See: https://github.com/scikit-learn/scikit-learn/issues/21755 */display: inline-block !important;position: relative;}#sk-container-id-1 div.sk-text-repr-fallback {display: none;}</style><div id=\"sk-container-id-1\" class=\"sk-top-container\"><div class=\"sk-text-repr-fallback\"><pre>Pipeline(steps=[(&#x27;dt&#x27;, DecisionTreeClassifier(random_state=42))])</pre><b>In a Jupyter environment, please rerun this cell to show the HTML representation or trust the notebook. <br />On GitHub, the HTML representation is unable to render, please try loading this page with nbviewer.org.</b></div><div class=\"sk-container\" hidden><div class=\"sk-item sk-dashed-wrapped\"><div class=\"sk-label-container\"><div class=\"sk-label sk-toggleable\"><input class=\"sk-toggleable__control sk-hidden--visually\" id=\"sk-estimator-id-1\" type=\"checkbox\" ><label for=\"sk-estimator-id-1\" class=\"sk-toggleable__label sk-toggleable__label-arrow\">Pipeline</label><div class=\"sk-toggleable__content\"><pre>Pipeline(steps=[(&#x27;dt&#x27;, DecisionTreeClassifier(random_state=42))])</pre></div></div></div><div class=\"sk-serial\"><div class=\"sk-item\"><div class=\"sk-estimator sk-toggleable\"><input class=\"sk-toggleable__control sk-hidden--visually\" id=\"sk-estimator-id-2\" type=\"checkbox\" ><label for=\"sk-estimator-id-2\" class=\"sk-toggleable__label sk-toggleable__label-arrow\">DecisionTreeClassifier</label><div class=\"sk-toggleable__content\"><pre>DecisionTreeClassifier(random_state=42)</pre></div></div></div></div></div></div></div>"
            ]
          },
          "metadata": {},
          "execution_count": 35
        }
      ]
    },
    {
      "cell_type": "markdown",
      "source": [
        "###Model Evaluation"
      ],
      "metadata": {
        "id": "7MAYcMw-W-vC"
      }
    },
    {
      "cell_type": "code",
      "source": [
        "\n",
        "# Predict on the test set using the trained pipeline\n",
        "y_pred_test = dt_pipeline.predict(X_test_pca)\n",
        "\n",
        "# Calculate Accuracy on the test set\n",
        "accuracy_test = accuracy_score(y_test, y_pred_test)\n",
        "print(f'Accuracy on Test Set: {accuracy_test:.4f}')\n",
        "\n",
        "# Calculate Precision, Recall, and F1-score on the test set\n",
        "precision_test = precision_score(y_test, y_pred_test, average='weighted')\n",
        "recall_test = recall_score(y_test, y_pred_test, average='weighted')\n",
        "f1_test = f1_score(y_test, y_pred_test, average='weighted')\n",
        "\n",
        "print(f'Precision on Test Set: {precision_test:.4f}')\n",
        "print(f'Recall on Test Set: {recall_test:.4f}')\n",
        "print(f'F1-score on Test Set: {f1_test:.4f}')\n",
        "\n"
      ],
      "metadata": {
        "colab": {
          "base_uri": "https://localhost:8080/"
        },
        "id": "3Mt6F5NexEks",
        "outputId": "ec6a1517-e94b-4c41-b7c2-dade2f4ca14b"
      },
      "execution_count": null,
      "outputs": [
        {
          "output_type": "stream",
          "name": "stdout",
          "text": [
            "Accuracy on Test Set: 0.7207\n",
            "Precision on Test Set: 0.7334\n",
            "Recall on Test Set: 0.7207\n",
            "F1-score on Test Set: 0.7266\n"
          ]
        }
      ]
    },
    {
      "cell_type": "markdown",
      "source": [
        "##Decision Tree with k-fold cross validation and hyperparameter tuning"
      ],
      "metadata": {
        "id": "IprI4g6BYnkv"
      }
    },
    {
      "cell_type": "markdown",
      "source": [
        "###Model Training"
      ],
      "metadata": {
        "id": "qpw-ArVqYoR0"
      }
    },
    {
      "cell_type": "code",
      "source": [
        "\n",
        "# Define hyperparameters to tune\n",
        "param_grid = {\n",
        "    'max_depth': [10, 15],\n",
        "    'min_samples_split': [5, 10],\n",
        "    'min_samples_leaf': [2, 4]\n",
        "}\n",
        "dt = DecisionTreeClassifier()\n",
        "# Use GridSearchCV for hyperparameter tuning with 5-fold cross-validation\n",
        "grid_search = GridSearchCV(estimator=dt, param_grid=param_grid, cv=5, n_jobs=-1, verbose=2)\n",
        "grid_search.fit(X_train_pca, y_train)\n",
        "\n",
        "# Best hyperparameters found\n",
        "best_params = grid_search.best_params_\n",
        "print(\"Best hyperparameters:\", best_params)\n",
        "\n",
        "# Train the model with the best parameters\n",
        "best_dt = DecisionTreeClassifier(**best_params)\n",
        "best_dt.fit(X_train_pca, y_train)\n",
        "\n",
        "# Evaluate model performance on test set\n",
        "accuracy = best_dt.score(X_test_pca, y_test)\n",
        "print(f\"Accuracy on test set: {accuracy:.4f}\")\n"
      ],
      "metadata": {
        "colab": {
          "base_uri": "https://localhost:8080/"
        },
        "id": "5y5R9m0T-vbA",
        "outputId": "cd24edc2-c158-429b-bd28-dc74f73956f5"
      },
      "execution_count": null,
      "outputs": [
        {
          "output_type": "stream",
          "name": "stdout",
          "text": [
            "Fitting 5 folds for each of 8 candidates, totalling 40 fits\n",
            "Best hyperparameters: {'max_depth': 15, 'min_samples_leaf': 2, 'min_samples_split': 5}\n",
            "Accuracy on test set: 0.7546\n"
          ]
        }
      ]
    },
    {
      "cell_type": "markdown",
      "source": [
        "###Model Evaluation"
      ],
      "metadata": {
        "id": "tBMrQh_IY0cm"
      }
    },
    {
      "cell_type": "code",
      "source": [
        "\n",
        "# Predict on the test set using the best model found\n",
        "y_pred = best_dt.predict(X_test_pca)\n",
        "\n",
        "# Calculate Accuracy on the test set\n",
        "accuracy = accuracy_score(y_test, y_pred)\n",
        "print(f'Accuracy on Test Set: {accuracy:.4f}')\n",
        "\n",
        "# Calculate Precision, Recall, and F1-score on the test set\n",
        "precision = precision_score(y_test, y_pred, average='weighted')\n",
        "recall = recall_score(y_test, y_pred, average='weighted')\n",
        "f1 = f1_score(y_test, y_pred, average='weighted')\n",
        "\n",
        "print(f'Precision on Test Set: {precision:.4f}')\n",
        "print(f'Recall on Test Set: {recall:.4f}')\n",
        "print(f'F1-score on Test Set: {f1:.4f}')\n"
      ],
      "metadata": {
        "colab": {
          "base_uri": "https://localhost:8080/"
        },
        "id": "4t5_O0b9AiLf",
        "outputId": "99c1352e-a276-469d-ac6d-820e9ba7480e"
      },
      "execution_count": null,
      "outputs": [
        {
          "output_type": "stream",
          "name": "stdout",
          "text": [
            "Accuracy on Test Set: 0.7546\n",
            "Precision on Test Set: 0.7578\n",
            "Recall on Test Set: 0.7546\n",
            "F1-score on Test Set: 0.7474\n"
          ]
        },
        {
          "output_type": "stream",
          "name": "stderr",
          "text": [
            "/usr/local/lib/python3.10/dist-packages/sklearn/metrics/_classification.py:1344: UndefinedMetricWarning: Precision is ill-defined and being set to 0.0 in labels with no predicted samples. Use `zero_division` parameter to control this behavior.\n",
            "  _warn_prf(average, modifier, msg_start, len(result))\n"
          ]
        }
      ]
    },
    {
      "cell_type": "markdown",
      "source": [
        "# Random forest\n",
        "A Random Forest classifier is implemented with k-fold cross-validation, initially without hyperparameter tuning, achieving an accuracy of 84% on the validation set with 100 estimators. On the test set, the accuracy was 75.44%, with precision, recall, and F1-score values of 0.7502, 0.7544, and 0.7521, respectively.\n",
        "\n",
        "After performing hyperparameter tuning, the best parameters were determined as {'max_depth': 15, 'n_estimators': 200}. This refinement resulted in improved performance, with the accuracy on the validation and test sets both reaching 78.81%. Precision on the test set increased to 0.7750, while recall and F1-score were 0.7881 and 0.7779, respectively.\n",
        "\n",
        "Random Forest is an ensemble learning method that builds a multitude of decision trees during training and outputs the mode of the classes for classification tasks. It excels in handling complex datasets, capturing intricate relationships between features, and often requires less hyperparameter tuning compared to individual decision trees. The use of k-fold cross-validation helps in robustly evaluating model performance, and hyperparameter tuning further refines the model's parameters to enhance the accuracy of the test set."
      ],
      "metadata": {
        "id": "dKUXRKPpVuH1"
      }
    },
    {
      "cell_type": "markdown",
      "source": [
        "##Random Forest with k-fold cross validation and without hyperparameter tuning\n"
      ],
      "metadata": {
        "id": "UrFhLNjbfUH1"
      }
    },
    {
      "cell_type": "markdown",
      "source": [
        "###Model Training"
      ],
      "metadata": {
        "id": "v1S2qpkafUID"
      }
    },
    {
      "cell_type": "code",
      "source": [
        "# Create a pipeline with PCA and Random Forest Classifier\n",
        "rf_pipeline = Pipeline([\n",
        "    ('rf', RandomForestClassifier(n_estimators=100, random_state=42))\n",
        "])\n",
        "\n",
        "# Perform k-fold cross-validation without hyperparameter tuning\n",
        "for train_index, val_index in kfold.split(X_train_pca):\n",
        "    X_train_fold, X_val_fold = X_train_pca[train_index], X_train_pca[val_index]\n",
        "    y_train_fold, y_val_fold = y_train[train_index], y_train[val_index]\n",
        "\n",
        "    # Fit the model on the training fold\n",
        "    rf_pipeline.fit(X_train_fold, y_train_fold)\n",
        "\n",
        "    # Evaluate the model on the validation fold\n",
        "    y_pred = rf_pipeline.predict(X_val_fold)\n",
        "    accuracy = accuracy_score(y_val_fold, y_pred)\n",
        "    print(\"Accuracy on Validation Set:\", accuracy)\n"
      ],
      "metadata": {
        "colab": {
          "base_uri": "https://localhost:8080/"
        },
        "id": "Wfl75a7Htk46",
        "outputId": "191f5c38-7e64-4b02-905e-c23796f2a03e"
      },
      "execution_count": null,
      "outputs": [
        {
          "output_type": "stream",
          "name": "stdout",
          "text": [
            "Accuracy on Validation Set: 0.8440702781844802\n",
            "Accuracy on Validation Set: 0.8445654982344328\n",
            "Accuracy on Validation Set: 0.8425846180346224\n",
            "Accuracy on Validation Set: 0.8435070947182568\n",
            "Accuracy on Validation Set: 0.8463062248347437\n"
          ]
        }
      ]
    },
    {
      "cell_type": "markdown",
      "source": [
        "###Model Interpretation"
      ],
      "metadata": {
        "id": "uJ5G-XpsfUID"
      }
    },
    {
      "cell_type": "code",
      "source": [
        "rf_pipeline"
      ],
      "metadata": {
        "colab": {
          "base_uri": "https://localhost:8080/",
          "height": 91
        },
        "id": "XdtSs8cbwrar",
        "outputId": "0f855b74-7e95-4ccb-a86f-2e0983f7e88a"
      },
      "execution_count": null,
      "outputs": [
        {
          "output_type": "execute_result",
          "data": {
            "text/plain": [
              "Pipeline(steps=[('rf', RandomForestClassifier(random_state=42))])"
            ],
            "text/html": [
              "<style>#sk-container-id-3 {color: black;background-color: white;}#sk-container-id-3 pre{padding: 0;}#sk-container-id-3 div.sk-toggleable {background-color: white;}#sk-container-id-3 label.sk-toggleable__label {cursor: pointer;display: block;width: 100%;margin-bottom: 0;padding: 0.3em;box-sizing: border-box;text-align: center;}#sk-container-id-3 label.sk-toggleable__label-arrow:before {content: \"▸\";float: left;margin-right: 0.25em;color: #696969;}#sk-container-id-3 label.sk-toggleable__label-arrow:hover:before {color: black;}#sk-container-id-3 div.sk-estimator:hover label.sk-toggleable__label-arrow:before {color: black;}#sk-container-id-3 div.sk-toggleable__content {max-height: 0;max-width: 0;overflow: hidden;text-align: left;background-color: #f0f8ff;}#sk-container-id-3 div.sk-toggleable__content pre {margin: 0.2em;color: black;border-radius: 0.25em;background-color: #f0f8ff;}#sk-container-id-3 input.sk-toggleable__control:checked~div.sk-toggleable__content {max-height: 200px;max-width: 100%;overflow: auto;}#sk-container-id-3 input.sk-toggleable__control:checked~label.sk-toggleable__label-arrow:before {content: \"▾\";}#sk-container-id-3 div.sk-estimator input.sk-toggleable__control:checked~label.sk-toggleable__label {background-color: #d4ebff;}#sk-container-id-3 div.sk-label input.sk-toggleable__control:checked~label.sk-toggleable__label {background-color: #d4ebff;}#sk-container-id-3 input.sk-hidden--visually {border: 0;clip: rect(1px 1px 1px 1px);clip: rect(1px, 1px, 1px, 1px);height: 1px;margin: -1px;overflow: hidden;padding: 0;position: absolute;width: 1px;}#sk-container-id-3 div.sk-estimator {font-family: monospace;background-color: #f0f8ff;border: 1px dotted black;border-radius: 0.25em;box-sizing: border-box;margin-bottom: 0.5em;}#sk-container-id-3 div.sk-estimator:hover {background-color: #d4ebff;}#sk-container-id-3 div.sk-parallel-item::after {content: \"\";width: 100%;border-bottom: 1px solid gray;flex-grow: 1;}#sk-container-id-3 div.sk-label:hover label.sk-toggleable__label {background-color: #d4ebff;}#sk-container-id-3 div.sk-serial::before {content: \"\";position: absolute;border-left: 1px solid gray;box-sizing: border-box;top: 0;bottom: 0;left: 50%;z-index: 0;}#sk-container-id-3 div.sk-serial {display: flex;flex-direction: column;align-items: center;background-color: white;padding-right: 0.2em;padding-left: 0.2em;position: relative;}#sk-container-id-3 div.sk-item {position: relative;z-index: 1;}#sk-container-id-3 div.sk-parallel {display: flex;align-items: stretch;justify-content: center;background-color: white;position: relative;}#sk-container-id-3 div.sk-item::before, #sk-container-id-3 div.sk-parallel-item::before {content: \"\";position: absolute;border-left: 1px solid gray;box-sizing: border-box;top: 0;bottom: 0;left: 50%;z-index: -1;}#sk-container-id-3 div.sk-parallel-item {display: flex;flex-direction: column;z-index: 1;position: relative;background-color: white;}#sk-container-id-3 div.sk-parallel-item:first-child::after {align-self: flex-end;width: 50%;}#sk-container-id-3 div.sk-parallel-item:last-child::after {align-self: flex-start;width: 50%;}#sk-container-id-3 div.sk-parallel-item:only-child::after {width: 0;}#sk-container-id-3 div.sk-dashed-wrapped {border: 1px dashed gray;margin: 0 0.4em 0.5em 0.4em;box-sizing: border-box;padding-bottom: 0.4em;background-color: white;}#sk-container-id-3 div.sk-label label {font-family: monospace;font-weight: bold;display: inline-block;line-height: 1.2em;}#sk-container-id-3 div.sk-label-container {text-align: center;}#sk-container-id-3 div.sk-container {/* jupyter's `normalize.less` sets `[hidden] { display: none; }` but bootstrap.min.css set `[hidden] { display: none !important; }` so we also need the `!important` here to be able to override the default hidden behavior on the sphinx rendered scikit-learn.org. See: https://github.com/scikit-learn/scikit-learn/issues/21755 */display: inline-block !important;position: relative;}#sk-container-id-3 div.sk-text-repr-fallback {display: none;}</style><div id=\"sk-container-id-3\" class=\"sk-top-container\"><div class=\"sk-text-repr-fallback\"><pre>Pipeline(steps=[(&#x27;rf&#x27;, RandomForestClassifier(random_state=42))])</pre><b>In a Jupyter environment, please rerun this cell to show the HTML representation or trust the notebook. <br />On GitHub, the HTML representation is unable to render, please try loading this page with nbviewer.org.</b></div><div class=\"sk-container\" hidden><div class=\"sk-item sk-dashed-wrapped\"><div class=\"sk-label-container\"><div class=\"sk-label sk-toggleable\"><input class=\"sk-toggleable__control sk-hidden--visually\" id=\"sk-estimator-id-6\" type=\"checkbox\" ><label for=\"sk-estimator-id-6\" class=\"sk-toggleable__label sk-toggleable__label-arrow\">Pipeline</label><div class=\"sk-toggleable__content\"><pre>Pipeline(steps=[(&#x27;rf&#x27;, RandomForestClassifier(random_state=42))])</pre></div></div></div><div class=\"sk-serial\"><div class=\"sk-item\"><div class=\"sk-estimator sk-toggleable\"><input class=\"sk-toggleable__control sk-hidden--visually\" id=\"sk-estimator-id-7\" type=\"checkbox\" ><label for=\"sk-estimator-id-7\" class=\"sk-toggleable__label sk-toggleable__label-arrow\">RandomForestClassifier</label><div class=\"sk-toggleable__content\"><pre>RandomForestClassifier(random_state=42)</pre></div></div></div></div></div></div></div>"
            ]
          },
          "metadata": {},
          "execution_count": 31
        }
      ]
    },
    {
      "cell_type": "markdown",
      "source": [
        "###Model Evaluation"
      ],
      "metadata": {
        "id": "3ShO3ghefUID"
      }
    },
    {
      "cell_type": "code",
      "source": [
        "\n",
        "# Predict on the test set using the trained pipeline\n",
        "y_pred_test = rf_pipeline.predict(X_test_pca)\n",
        "\n",
        "# Calculate Accuracy on the test set\n",
        "accuracy_test = accuracy_score(y_test, y_pred_test)\n",
        "print(f'Accuracy on Test Set: {accuracy_test:.4f}')\n",
        "\n",
        "# Calculate Precision, Recall, and F1-score on the test set\n",
        "precision_test = precision_score(y_test, y_pred_test, average='weighted')\n",
        "recall_test = recall_score(y_test, y_pred_test, average='weighted')\n",
        "f1_test = f1_score(y_test, y_pred_test, average='weighted')\n",
        "\n",
        "print(f'Precision on Test Set: {precision_test:.4f}')\n",
        "print(f'Recall on Test Set: {recall_test:.4f}')\n",
        "print(f'F1-score on Test Set: {f1_test:.4f}')\n",
        "\n",
        "\n"
      ],
      "metadata": {
        "colab": {
          "base_uri": "https://localhost:8080/"
        },
        "id": "HV70B4MF6UeD",
        "outputId": "e1954397-f6ef-4e51-e21f-f704e3524d49"
      },
      "execution_count": null,
      "outputs": [
        {
          "output_type": "stream",
          "name": "stdout",
          "text": [
            "Accuracy on Test Set: 0.7544\n",
            "Precision on Test Set: 0.7502\n",
            "Recall on Test Set: 0.7544\n",
            "F1-score on Test Set: 0.7521\n"
          ]
        },
        {
          "output_type": "stream",
          "name": "stderr",
          "text": [
            "/usr/local/lib/python3.10/dist-packages/sklearn/metrics/_classification.py:1344: UndefinedMetricWarning: Precision is ill-defined and being set to 0.0 in labels with no predicted samples. Use `zero_division` parameter to control this behavior.\n",
            "  _warn_prf(average, modifier, msg_start, len(result))\n"
          ]
        }
      ]
    },
    {
      "cell_type": "markdown",
      "source": [
        "##Random Forest with k-fold cross validation and hyperparameter tuning"
      ],
      "metadata": {
        "id": "sviwpM5WfUID"
      }
    },
    {
      "cell_type": "markdown",
      "source": [
        "###Model Training"
      ],
      "metadata": {
        "id": "G9kXp7w0fUID"
      }
    },
    {
      "cell_type": "code",
      "source": [
        "# Define hyperparameters to tune\n",
        "param_grid = {\n",
        "    'n_estimators': [100,200],\n",
        "    'max_depth': [10, 15],\n",
        "}\n",
        "rf = RandomForestClassifier(random_state=42)\n",
        "# Use GridSearchCV for hyperparameter tuning with 5-fold cross-validation\n",
        "grid_search = GridSearchCV(estimator=rf, param_grid=param_grid, cv=5, n_jobs=-1, verbose=2)\n",
        "grid_search.fit(X_train_pca, y_train)\n",
        "\n",
        "# Best hyperparameters found\n",
        "best_params = grid_search.best_params_\n",
        "print(\"Best hyperparameters:\", best_params)\n",
        "\n",
        "# Train the model with the best parameters\n",
        "best_rf = RandomForestClassifier(**best_params)\n",
        "best_rf.fit(X_train_pca, y_train)\n",
        "\n",
        "# Evaluate model performance on test set\n",
        "accuracy = best_rf.score(X_test_pca, y_test)\n",
        "print(f\"Accuracy on test set: {accuracy:.4f}\")\n"
      ],
      "metadata": {
        "colab": {
          "base_uri": "https://localhost:8080/"
        },
        "id": "juBjXFi59HvQ",
        "outputId": "7af6fb81-86ce-4f88-bf5a-a8ac2709adb7"
      },
      "execution_count": null,
      "outputs": [
        {
          "output_type": "stream",
          "name": "stdout",
          "text": [
            "Fitting 5 folds for each of 4 candidates, totalling 20 fits\n",
            "Best hyperparameters: {'max_depth': 15, 'n_estimators': 200}\n",
            "Accuracy on test set: 0.7881\n"
          ]
        }
      ]
    },
    {
      "cell_type": "markdown",
      "source": [
        "###Model Evaluation"
      ],
      "metadata": {
        "id": "GhuI04ZUfUIE"
      }
    },
    {
      "cell_type": "code",
      "source": [
        "\n",
        "# Predict on the test set using the best model found\n",
        "y_pred = best_rf.predict(X_test_pca)\n",
        "\n",
        "# Calculate Accuracy on the test set\n",
        "accuracy = accuracy_score(y_test, y_pred)\n",
        "print(f'Accuracy on Test Set: {accuracy:.4f}')\n",
        "\n",
        "# Calculate Precision, Recall, and F1-score on the test set\n",
        "precision = precision_score(y_test, y_pred, average='weighted')\n",
        "recall = recall_score(y_test, y_pred, average='weighted')\n",
        "f1 = f1_score(y_test, y_pred, average='weighted')\n",
        "\n",
        "print(f'Precision on Test Set: {precision:.4f}')\n",
        "print(f'Recall on Test Set: {recall:.4f}')\n",
        "print(f'F1-score on Test Set: {f1:.4f}')\n"
      ],
      "metadata": {
        "colab": {
          "base_uri": "https://localhost:8080/"
        },
        "id": "AfsAIoaE-ItY",
        "outputId": "b8971c3e-b874-4565-c786-0897d97d5e79"
      },
      "execution_count": null,
      "outputs": [
        {
          "output_type": "stream",
          "name": "stdout",
          "text": [
            "Accuracy on Test Set: 0.7881\n",
            "Precision on Test Set: 0.7750\n",
            "Recall on Test Set: 0.7881\n",
            "F1-score on Test Set: 0.7779\n"
          ]
        },
        {
          "output_type": "stream",
          "name": "stderr",
          "text": [
            "/usr/local/lib/python3.10/dist-packages/sklearn/metrics/_classification.py:1344: UndefinedMetricWarning: Precision is ill-defined and being set to 0.0 in labels with no predicted samples. Use `zero_division` parameter to control this behavior.\n",
            "  _warn_prf(average, modifier, msg_start, len(result))\n"
          ]
        }
      ]
    },
    {
      "cell_type": "markdown",
      "source": [
        "# Conclusion\n",
        "In this project, we aimed to predict the severity of road traffic accidents using the FARS dataset, which consists of 30 features and over 100,000 examples. The project involved an extensive preprocessing phase to enhance the quality of the data for machine learning. The key preprocessing steps included an 80-20 train-test split, MinMax scaling for numerical features, One-Hot encoding for categorical features, and addressing class imbalance using SMOTE.\n",
        "\n",
        "For model implementation, several algorithms were employed. Logistic Regression with LDA, Support Vector Machine (SVM) with PCA, Random Forest, and Decision Tree models were implemented. Each model underwent k-fold cross-validation to ensure robust evaluation. After initial model implementation, hyperparameter tuning was performed on Random Forest and Decision Tree models to optimize their performance.\n",
        "\n",
        "Support Vector Machine (SVM) with PCA achieved a validation set accuracy of 79.18%, and this performance was consistent on the test set. The SVM model is a strong contender, demonstrating competitive accuracy levels in predicting accident severity in comparison to other models implemented in the project. The project showcases a systematic approach from data preprocessing to model implementation and tuning, ultimately leading to a well-performing machine learning model for predicting accident severity."
      ],
      "metadata": {
        "id": "xleJUylpxi6D"
      }
    }
  ]
}